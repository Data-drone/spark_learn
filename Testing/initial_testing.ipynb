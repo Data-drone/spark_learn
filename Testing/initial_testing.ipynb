{
 "cells": [
  {
   "cell_type": "markdown",
   "metadata": {},
   "source": [
    "# Getting Started with Spark"
   ]
  },
  {
   "cell_type": "markdown",
   "metadata": {},
   "source": [
    "### Testing Python Envs"
   ]
  },
  {
   "cell_type": "code",
   "execution_count": 1,
   "metadata": {},
   "outputs": [],
   "source": [
    "#from pyspark import SparkConf, SparkContext\n",
    "from pyspark.sql import SparkSession\n",
    "from pyspark.sql.types import StructType, StructField, FloatType, \\\n",
    "        IntegerType, StringType"
   ]
  },
  {
   "cell_type": "code",
   "execution_count": 2,
   "metadata": {},
   "outputs": [],
   "source": [
    "import pandas as pd\n",
    "import configparser"
   ]
  },
  {
   "cell_type": "code",
   "execution_count": 3,
   "metadata": {},
   "outputs": [],
   "source": [
    "from pyspark import SparkConf, SparkContext\n",
    "conf = SparkConf().setAppName('spark-test') \\\n",
    "                .setMaster('spark://spark-master:7077')\n",
    "sc = SparkContext(conf=conf)"
   ]
  },
  {
   "cell_type": "code",
   "execution_count": 4,
   "metadata": {},
   "outputs": [],
   "source": [
    "rdd = (sc.parallelize(range(1000)).take(10))"
   ]
  },
  {
   "cell_type": "code",
   "execution_count": 5,
   "metadata": {},
   "outputs": [
    {
     "name": "stdout",
     "output_type": "stream",
     "text": [
      "[0, 1, 2, 3, 4, 5, 6, 7, 8, 9]\n"
     ]
    }
   ],
   "source": [
    "print(rdd)"
   ]
  },
  {
   "cell_type": "code",
   "execution_count": 6,
   "metadata": {},
   "outputs": [],
   "source": [
    "sc.stop()"
   ]
  },
  {
   "cell_type": "markdown",
   "metadata": {},
   "source": [
    "# Testing Loading CSV"
   ]
  },
  {
   "cell_type": "markdown",
   "metadata": {},
   "source": [
    "before we used the SparkContext entry point now we switch to SparkSession which is features from 2.0 onwards"
   ]
  },
  {
   "cell_type": "code",
   "execution_count": null,
   "metadata": {},
   "outputs": [],
   "source": [
    "spark = SparkSession.builder \\\n",
    "            .master('spark://172.22.0.2:7077') \\\n",
    "            .appName('CSV Parsing') \\\n",
    "            .getOrCreate()\n"
   ]
  },
  {
   "cell_type": "code",
   "execution_count": null,
   "metadata": {},
   "outputs": [],
   "source": [
    "executor_path = '/opt/spark-data/raw/ieee-fraud-detection/train_identity.csv'\n",
    "driver_path = '/home/jovyan/work/spark_learn/data/raw/ieee-fraud-detection/train_identity.csv'"
   ]
  },
  {
   "cell_type": "code",
   "execution_count": null,
   "metadata": {},
   "outputs": [],
   "source": []
  },
  {
   "cell_type": "code",
   "execution_count": null,
   "metadata": {},
   "outputs": [],
   "source": [
    "# specify the schema\n",
    "schema = StructType([\n",
    "    StructField(\"TransactionID\", IntegerType(), nullable=False),\n",
    "    StructField(\"id_01\", FloatType()),\n",
    "    StructField(\"id_02\", FloatType()),\n",
    "    StructField(\"id_03\", FloatType()),\n",
    "    StructField(\"id_04\", FloatType()),\n",
    "    StructField(\"id_05\", FloatType()),\n",
    "    StructField(\"id_06\", FloatType()),\n",
    "    StructField(\"id_07\", FloatType()),\n",
    "    StructField(\"id_08\", FloatType()),\n",
    "    StructField(\"id_09\", FloatType()),\n",
    "    StructField(\"id_10\", FloatType()),\n",
    "    StructField(\"id_11\", FloatType()),\n",
    "    StructField(\"id_12\", StringType()),\n",
    "    StructField(\"id_13\", StringType()),\n",
    "    StructField(\"id_14\", StringType()),\n",
    "    StructField(\"id_15\", StringType()),\n",
    "    StructField(\"id_16\", StringType()),\n",
    "    StructField(\"id_17\", StringType()),\n",
    "    StructField(\"id_18\", StringType()),\n",
    "    StructField(\"id_19\", StringType()),\n",
    "    StructField(\"id_20\", StringType()),\n",
    "    StructField(\"id_21\", StringType()),\n",
    "    StructField(\"id_22\", StringType()),\n",
    "    StructField(\"id_23\", StringType()),\n",
    "    StructField(\"id_24\", StringType()),\n",
    "    StructField(\"id_25\", StringType()),\n",
    "    StructField(\"id_26\", StringType()),\n",
    "    StructField(\"id_27\", StringType()),\n",
    "    StructField(\"id_28\", StringType()),\n",
    "    StructField(\"id_29\", StringType()),\n",
    "    StructField(\"id_30\", StringType()),\n",
    "    StructField(\"id_31\", StringType()),\n",
    "    StructField(\"id_32\", StringType()),\n",
    "    StructField(\"id_33\", StringType()),\n",
    "    StructField(\"id_34\", StringType()),\n",
    "    StructField(\"id_35\", StringType()),\n",
    "    StructField(\"id_36\", StringType()),\n",
    "    StructField(\"id_37\", StringType()),\n",
    "    StructField(\"id_38\", StringType()),\n",
    "    StructField(\"DeviceType\", StringType()),\n",
    "    StructField(\"DeviceInfo\", StringType()),\n",
    "])"
   ]
  },
  {
   "cell_type": "code",
   "execution_count": null,
   "metadata": {},
   "outputs": [],
   "source": [
    "df = spark.read.csv(driver_path, header=True, inferSchema=False, schema=schema)"
   ]
  },
  {
   "cell_type": "code",
   "execution_count": null,
   "metadata": {},
   "outputs": [],
   "source": [
    "df.printSchema()"
   ]
  },
  {
   "cell_type": "code",
   "execution_count": null,
   "metadata": {},
   "outputs": [],
   "source": [
    "driver_write_path = '/home/jovyan/work/spark_learn/data/processed/ieee-fraud-detection/train_identity.parquet'\n",
    "executor_write_path = '/opt/spark-data/processed/ieee-fraud-detection/train_identity.parquet'"
   ]
  },
  {
   "cell_type": "code",
   "execution_count": null,
   "metadata": {},
   "outputs": [],
   "source": [
    "# we need hdfs to do this\n",
    "# df.write.save(executor_write_path)"
   ]
  }
 ],
 "metadata": {
  "kernelspec": {
   "display_name": "Python 3",
   "language": "python",
   "name": "python3"
  },
  "language_info": {
   "codemirror_mode": {
    "name": "ipython",
    "version": 3
   },
   "file_extension": ".py",
   "mimetype": "text/x-python",
   "name": "python",
   "nbconvert_exporter": "python",
   "pygments_lexer": "ipython3",
   "version": "3.7.6"
  }
 },
 "nbformat": 4,
 "nbformat_minor": 4
}
