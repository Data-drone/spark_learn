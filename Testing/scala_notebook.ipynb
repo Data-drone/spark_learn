{
 "cells": [
  {
   "cell_type": "markdown",
   "metadata": {},
   "source": [
    "# Spylon Test"
   ]
  },
  {
   "cell_type": "code",
   "execution_count": 1,
   "metadata": {},
   "outputs": [],
   "source": [
    "%%init_spark\n",
    "launcher.jars = [\"file:///opt/spark-data/libs/xgb_1_12/xgboost4j_2.12-1.0.0.jar\", \"file:///opt/spark-data/libs/xgb_1+12/xgboost4j-spark_2.12-1.0.0.jar\"]\n",
    "launcher.master = \"spark://spark-master:7077\"\n",
    "launcher.conf.spark.app.name = \"Test App\"\n",
    "launcher.conf.spark.executor.cores = 2\n",
    "launcher.conf.spark.executor.memory = \"2g\""
   ]
  },
  {
   "cell_type": "code",
   "execution_count": null,
   "metadata": {},
   "outputs": [],
   "source": [
    "%%init_spark\n",
    "launcher.packages = [\"ml.dmlc.xgboost4j_2.12:1.0.0\"]\n",
    "launcher.packages = [\"ml.dmlc.xgboost4j-spark_2.12:1.0.0\"]"
   ]
  },
  {
   "cell_type": "code",
   "execution_count": null,
   "metadata": {},
   "outputs": [],
   "source": [
    "spark"
   ]
  },
  {
   "cell_type": "code",
   "execution_count": 2,
   "metadata": {},
   "outputs": [
    {
     "data": {
      "text/plain": [
       "Intitializing Scala interpreter ..."
      ]
     },
     "metadata": {},
     "output_type": "display_data"
    },
    {
     "data": {
      "text/plain": [
       "Spark Web UI available at http://c046525e0569:4040\n",
       "SparkContext available as 'sc' (version = 3.0.0, master = spark://spark-master:7077, app id = app-20200620073818-0003)\n",
       "SparkSession available as 'spark'\n"
      ]
     },
     "metadata": {},
     "output_type": "display_data"
    },
    {
     "data": {
      "text/plain": [
       "import org.apache.spark.sql.SparkSession\n",
       "import org.apache.spark.sql.types.{DoubleType, StringType, StructField, StructType}\n"
      ]
     },
     "execution_count": 2,
     "metadata": {},
     "output_type": "execute_result"
    }
   ],
   "source": [
    "// the import starts a spark sesh on local\n",
    "// Need to change so taht we can create the session later\n",
    "import org.apache.spark.sql.SparkSession\n",
    "import org.apache.spark.sql.types.{DoubleType, StringType, StructField, StructType}"
   ]
  },
  {
   "cell_type": "code",
   "execution_count": null,
   "metadata": {},
   "outputs": [],
   "source": [
    "%ls /opt/spark-data/"
   ]
  },
  {
   "cell_type": "code",
   "execution_count": 3,
   "metadata": {},
   "outputs": [
    {
     "data": {
      "text/plain": [
       "spark: org.apache.spark.sql.SparkSession = org.apache.spark.sql.SparkSession@34deabbf\n"
      ]
     },
     "execution_count": 3,
     "metadata": {},
     "output_type": "execute_result"
    }
   ],
   "source": [
    "val spark = SparkSession.builder().config(\"spark.executor.memory\", \"2g\")\n",
    "                    .config(\"spark.driver.memory\", \"4g\")\n",
    "                    .config(\"spark.jars.packages\",\"ml.dmlc.xgboost4j_2.11:1.0.0\")\n",
    "                    .config(\"spark.jars.packages\",\"ml.dmlc.xgboost4j-spark_2.11:1.0.0\")\n",
    "                    .master(\"spark://spark-master:7077\").getOrCreate();"
   ]
  },
  {
   "cell_type": "code",
   "execution_count": null,
   "metadata": {},
   "outputs": [],
   "source": [
    "//:require file:/opt/spark-data/libs/xgb_1_12/xgboost4j_2.12-1.0.0.jar\n",
    "//:require file:/opt/spark-data/libs/xgb_1+12/xgboost4j-spark_2.12-1.0.0.jar"
   ]
  },
  {
   "cell_type": "code",
   "execution_count": 4,
   "metadata": {},
   "outputs": [
    {
     "data": {
      "text/plain": [
       "schema: org.apache.spark.sql.types.StructType = StructType(StructField(sepal length,DoubleType,true), StructField(sepal width,DoubleType,true), StructField(petal length,DoubleType,true), StructField(petal width,DoubleType,true), StructField(class,StringType,true))\n"
      ]
     },
     "execution_count": 4,
     "metadata": {},
     "output_type": "execute_result"
    }
   ],
   "source": [
    "val schema = new StructType(Array(\n",
    "  StructField(\"sepal length\", DoubleType, true),\n",
    "  StructField(\"sepal width\", DoubleType, true),\n",
    "  StructField(\"petal length\", DoubleType, true),\n",
    "  StructField(\"petal width\", DoubleType, true),\n",
    "  StructField(\"class\", StringType, true)))"
   ]
  },
  {
   "cell_type": "code",
   "execution_count": 5,
   "metadata": {},
   "outputs": [
    {
     "data": {
      "text/plain": [
       "rawInput: org.apache.spark.sql.DataFrame = [sepal length: double, sepal width: double ... 3 more fields]\n"
      ]
     },
     "execution_count": 5,
     "metadata": {},
     "output_type": "execute_result"
    }
   ],
   "source": [
    "val rawInput = spark.read.schema(schema).csv(\"/opt/spark-data/train.csv\")"
   ]
  },
  {
   "cell_type": "code",
   "execution_count": 6,
   "metadata": {},
   "outputs": [
    {
     "data": {
      "text/plain": [
       "import org.apache.spark.ml.feature.StringIndexer\n",
       "stringIndexer: org.apache.spark.ml.feature.StringIndexerModel = StringIndexerModel: uid=strIdx_c3a1fa5216d6, handleInvalid=error\n",
       "labelTransformed: org.apache.spark.sql.DataFrame = [sepal length: double, sepal width: double ... 3 more fields]\n"
      ]
     },
     "execution_count": 6,
     "metadata": {},
     "output_type": "execute_result"
    }
   ],
   "source": [
    "import org.apache.spark.ml.feature.StringIndexer\n",
    "val stringIndexer = new StringIndexer().\n",
    "  setInputCol(\"class\").\n",
    "  setOutputCol(\"classIndex\").\n",
    "  fit(rawInput)\n",
    "val labelTransformed = stringIndexer.transform(rawInput).drop(\"class\")"
   ]
  },
  {
   "cell_type": "code",
   "execution_count": 7,
   "metadata": {},
   "outputs": [
    {
     "data": {
      "text/plain": [
       "import org.apache.spark.ml.feature.VectorAssembler\n",
       "vectorAssembler: org.apache.spark.ml.feature.VectorAssembler = VectorAssembler: uid=vecAssembler_d8c04fc2b16c, handleInvalid=error, numInputCols=4\n",
       "xgbInput: org.apache.spark.sql.DataFrame = [features: vector, classIndex: double]\n"
      ]
     },
     "execution_count": 7,
     "metadata": {},
     "output_type": "execute_result"
    }
   ],
   "source": [
    "import org.apache.spark.ml.feature.VectorAssembler\n",
    "val vectorAssembler = new VectorAssembler().\n",
    "  setInputCols(Array(\"sepal length\", \"sepal width\", \"petal length\", \"petal width\")).\n",
    "  setOutputCol(\"features\")\n",
    "val xgbInput = vectorAssembler.transform(labelTransformed).select(\"features\", \"classIndex\")"
   ]
  },
  {
   "cell_type": "code",
   "execution_count": 9,
   "metadata": {},
   "outputs": [
    {
     "ename": "<console>",
     "evalue": "28: error: object spark is not a member of package ml.dmlc.xgboost4j.scala",
     "output_type": "error",
     "traceback": [
      "<console>:28: error: object spark is not a member of package ml.dmlc.xgboost4j.scala",
      "       import ml.dmlc.xgboost4j.scala.spark.XGBoostClassifier",
      "                                      ^",
      ""
     ]
    }
   ],
   "source": [
    "import ml.dmlc.xgboost4j.scala.spark.XGBoostClassifier"
   ]
  },
  {
   "cell_type": "code",
   "execution_count": 8,
   "metadata": {},
   "outputs": [
    {
     "ename": "<console>",
     "evalue": "28: error: object spark is not a member of package ml.dmlc.xgboost4j.scala",
     "output_type": "error",
     "traceback": [
      "<console>:28: error: object spark is not a member of package ml.dmlc.xgboost4j.scala",
      "       import ml.dmlc.xgboost4j.scala.spark.XGBoostClassifier",
      "                                      ^",
      "<console>:35: error: not found: type XGBoostClassifier",
      "       val xgbClassifier = new XGBoostClassifier(xgbParam).",
      "                               ^",
      ""
     ]
    }
   ],
   "source": [
    "val xgbParam = Map(\"eta\" -> 0.1f,\n",
    "      \"missing\" -> -999,\n",
    "      \"objective\" -> \"multi:softprob\",\n",
    "      \"num_class\" -> 3,\n",
    "      \"num_round\" -> 100,\n",
    "      \"num_workers\" -> 2)\n",
    "val xgbClassifier = new XGBoostClassifier(xgbParam).\n",
    "      setFeaturesCol(\"features\").\n",
    "      setLabelCol(\"classIndex\")"
   ]
  },
  {
   "cell_type": "code",
   "execution_count": null,
   "metadata": {},
   "outputs": [],
   "source": []
  }
 ],
 "metadata": {
  "kernelspec": {
   "display_name": "spylon-kernel",
   "language": "scala",
   "name": "spylon-kernel"
  },
  "language_info": {
   "codemirror_mode": "text/x-scala",
   "file_extension": ".scala",
   "help_links": [
    {
     "text": "MetaKernel Magics",
     "url": "https://metakernel.readthedocs.io/en/latest/source/README.html"
    }
   ],
   "mimetype": "text/x-scala",
   "name": "scala",
   "pygments_lexer": "scala",
   "version": "0.4.1"
  }
 },
 "nbformat": 4,
 "nbformat_minor": 4
}
