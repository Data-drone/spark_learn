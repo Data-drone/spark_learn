{
 "cells": [
  {
   "cell_type": "markdown",
   "metadata": {},
   "source": [
    "# Apache Spark / Toree"
   ]
  },
  {
   "cell_type": "code",
   "execution_count": 1,
   "metadata": {},
   "outputs": [],
   "source": [
    "import org.apache.spark.sql.SparkSession\n",
    "import org.apache.spark.sql.types.{DoubleType, StringType, StructField, StructType}"
   ]
  },
  {
   "cell_type": "code",
   "execution_count": 2,
   "metadata": {},
   "outputs": [
    {
     "data": {
      "text/plain": [
       "spark = org.apache.spark.sql.SparkSession@2cf65d04\n"
      ]
     },
     "metadata": {},
     "output_type": "display_data",
     "source": "user"
    },
    {
     "data": {
      "text/plain": [
       "org.apache.spark.sql.SparkSession@2cf65d04"
      ]
     },
     "execution_count": 2,
     "metadata": {},
     "output_type": "execute_result"
    }
   ],
   "source": [
    "val spark = SparkSession.builder().config(\"spark.executor.memory\", \"2g\")\n",
    "                    .config(\"spark.driver.memory\", \"4g\")\n",
    "                    .master(\"spark://spark-master:7077\").getOrCreate();"
   ]
  },
  {
   "cell_type": "code",
   "execution_count": 3,
   "metadata": {},
   "outputs": [
    {
     "data": {
      "text/plain": [
       "Name: Syntax Error.\n",
       "Message: \n",
       "StackTrace: "
      ]
     },
     "execution_count": 3,
     "metadata": {},
     "output_type": "execute_result"
    }
   ],
   "source": [
    "//%AddJar file:/opt/spark-data/libs/xgb_1/xgboost4j_2.11-1.0.0.jar\n",
    "//%AddJar file:/opt/spark-data/libs/xgb_1/xgboost4j-spark_2.11-1.0.0.jar"
   ]
  },
  {
   "cell_type": "code",
   "execution_count": 6,
   "metadata": {},
   "outputs": [
    {
     "name": "stdout",
     "output_type": "stream",
     "text": [
      "Marking ml.dmlc:xgboost4j_2.11:1.0.0 for download\n",
      "Obtained 2 files\n",
      "Marking ml.dmlc:xgboost4j-spark_2.11:1.0.0 for download\n",
      "Obtained 2 files\n"
     ]
    }
   ],
   "source": [
    "%AddDeps ml.dmlc xgboost4j_2.11 1.0.0\n",
    "%AddDeps ml.dmlc xgboost4j-spark_2.11 1.0.0"
   ]
  },
  {
   "cell_type": "code",
   "execution_count": 7,
   "metadata": {},
   "outputs": [
    {
     "data": {
      "text/plain": [
       "schema = StructType(StructField(sepal_length,DoubleType,true), StructField(sepal_width,DoubleType,true), StructField(petal_length,DoubleType,true), StructField(petal_width,DoubleType,true), StructField(species,StringType,true))\n"
      ]
     },
     "metadata": {},
     "output_type": "display_data",
     "source": "user"
    },
    {
     "data": {
      "text/plain": [
       "StructType(StructField(sepal_length,DoubleType,true), StructField(sepal_width,DoubleType,true), StructField(petal_length,DoubleType,true), StructField(petal_width,DoubleType,true), StructField(species,StringType,true))"
      ]
     },
     "execution_count": 7,
     "metadata": {},
     "output_type": "execute_result"
    }
   ],
   "source": [
    "val schema = new StructType(Array(\n",
    "  StructField(\"sepal_length\", DoubleType, true),\n",
    "  StructField(\"sepal_width\", DoubleType, true),\n",
    "  StructField(\"petal_length\", DoubleType, true),\n",
    "  StructField(\"petal_width\", DoubleType, true),\n",
    "  StructField(\"species\", StringType, true)))"
   ]
  },
  {
   "cell_type": "code",
   "execution_count": 8,
   "metadata": {},
   "outputs": [
    {
     "data": {
      "text/plain": [
       "rawInput = [sepal_length: double, sepal_width: double ... 3 more fields]\n"
      ]
     },
     "metadata": {},
     "output_type": "display_data",
     "source": "user"
    },
    {
     "data": {
      "text/plain": [
       "[sepal_length: double, sepal_width: double ... 3 more fields]"
      ]
     },
     "execution_count": 8,
     "metadata": {},
     "output_type": "execute_result"
    }
   ],
   "source": [
    "val rawInput = spark.read\n",
    "                    .option(\"header\", \"true\")\n",
    "                    .schema(schema).csv(\"/opt/spark-data/iris.csv\")"
   ]
  },
  {
   "cell_type": "code",
   "execution_count": 9,
   "metadata": {},
   "outputs": [
    {
     "data": {
      "text/plain": [
       "stringIndexer = strIdx_4751d88cbc34\n",
       "labelTransformed = [sepal_length: double, sepal_width: double ... 3 more fields]\n"
      ]
     },
     "metadata": {},
     "output_type": "display_data",
     "source": "user"
    },
    {
     "data": {
      "text/plain": [
       "error: error while loading QualifiedTableName, class file '/home/jovyan/spark/jars/spark-catalyst_2.11-2.4.5.jar(org/apache/spark/sql/catalyst/QualifiedTableName.class)' has location not matching its contents: contains class QualifiedTableName\n",
       "error: error while loading JavaTypeInference, class file '/home/jovyan/spark/jars/spark-catalyst_2.11-2.4.5.jar(org/apache/spark/sql/catalyst/JavaTypeInference.class)' has location not matching its contents: contains class JavaTypeInference\n",
       "error: error while loading FunctionIdentifier, class file '/home/jovyan/spark/jars/spark-catalyst_2.11-2.4.5.jar(org/apache/spark/sql/catalyst/FunctionIdentifier.class)' has location not matching its contents: contains class FunctionIdentifier\n",
       "error: error while loading DefinedByConstructorParams, class file '/home/jovyan/spark/jars/spark-catalyst_2.11-2.4.5.jar(org/apache/spark/sql/catalyst/DefinedByConstructorParams.class)' has location not matching its contents: contains class DefinedByConstructorParams\n",
       "error: error while loading IdentifierWithDatabase, class file '/home/jovyan/spark/jars/spark-catalyst_2.11-2.4.5.jar(org/apache/spark/sql/catalyst/IdentifierWithDatabase.class)' has location not matching its contents: contains class IdentifierWithDatabase\n",
       "error: error while loading SpecializedGetters, class file '/home/jovyan/spark/jars/spark-catalyst_2.11-2.4.5.jar(org/apache/spark/sql/catalyst/expressions/SpecializedGetters.class)' has location not matching its contents: contains class SpecializedGetters\n",
       "error: error while loading Decimal, class file '/home/jovyan/spark/jars/spark-catalyst_2.11-2.4.5.jar(org/apache/spark/sql/types/Decimal.class)' has location not matching its contents: contains class Decimal\n",
       "error: error while loading ObjectType, class file '/home/jovyan/spark/jars/spark-catalyst_2.11-2.4.5.jar(org/apache/spark/sql/types/ObjectType.class)' has location not matching its contents: contains class ObjectType\n",
       "error: error while loading CreateNamedStruct, class file '/home/jovyan/spark/jars/spark-catalyst_2.11-2.4.5.jar(org/apache/spark/sql/catalyst/expressions/CreateNamedStruct.class)' has location not matching its contents: contains class CreateNamedStruct\n",
       "error: error while loading Attribute, class file '/home/jovyan/spark/jars/spark-catalyst_2.11-2.4.5.jar(org/apache/spark/sql/catalyst/expressions/Attribute.class)' has location not matching its contents: contains class Attribute\n",
       "error: error while loading AliasIdentifier, class file '/home/jovyan/spark/jars/spark-catalyst_2.11-2.4.5.jar(org/apache/spark/sql/catalyst/AliasIdentifier.class)' has location not matching its contents: contains class AliasIdentifier\n",
       "error: error while loading CatalystTypeConverters, class file '/home/jovyan/spark/jars/spark-catalyst_2.11-2.4.5.jar(org/apache/spark/sql/catalyst/CatalystTypeConverters.class)' has location not matching its contents: contains class CatalystTypeConverters\n",
       "error: error while loading ScalaSubtypeLock, class file '/home/jovyan/spark/jars/spark-catalyst_2.11-2.4.5.jar(org/apache/spark/sql/catalyst/ScalaSubtypeLock.class)' has location not matching its contents: contains class ScalaSubtypeLock\n",
       "error: error while loading package, class file '/home/jovyan/spark/jars/spark-catalyst_2.11-2.4.5.jar(org/apache/spark/sql/catalyst/dsl/package.class)' has location not matching its contents: contains package object dsl\n",
       "error: error while loading package, class file '/home/jovyan/spark/jars/spark-catalyst_2.11-2.4.5.jar(org/apache/spark/sql/catalyst/util/package.class)' has location not matching its contents: contains package object util\n",
       "error: error while loading package, class file '/home/jovyan/spark/jars/spark-catalyst_2.11-2.4.5.jar(org/apache/spark/sql/catalyst/errors/package.class)' has location not matching its contents: contains package object errors\n",
       "error: error while loading MarkerFactory, class file '/home/jovyan/spark/jars/slf4j-api-1.7.16.jar(org/slf4j/MarkerFactory.class)' has location not matching its contents: contains class MarkerFactory\n",
       "error: error while loading ILoggerFactory, class file '/home/jovyan/spark/jars/slf4j-api-1.7.16.jar(org/slf4j/ILoggerFactory.class)' has location not matching its contents: contains class ILoggerFactory\n",
       "error: error while loading MDC, class file '/home/jovyan/spark/jars/slf4j-api-1.7.16.jar(org/slf4j/MDC.class)' has location not matching its contents: contains class MDC\n",
       "error: error while loading LoggerFactory, class file '/home/jovyan/spark/jars/slf4j-api-1.7.16.jar(org/slf4j/LoggerFactory.class)' has location not matching its contents: contains class LoggerFactory\n",
       "error: error while loading Marker, class file '/home/jovyan/spark/jars/slf4j-api-1.7.16.jar(org/slf4j/Marker.class)' has location not matching its contents: contains class Marker\n",
       "error: error while loading IMarkerFactory, class file '/home/jovyan/spark/jars/slf4j-api-1.7.16.jar(org/slf4j/IMarkerFactory.class)' has location not matching its contents: contains class IMarkerFactory\n",
       "error: error while loading NDC, class file '/home/jovyan/spark/jars/apache-log4j-extras-1.2.17.jar(org/apache/log4j/NDC.class)' has location not matching its contents: contains class NDC\n",
       "error: error while loading SortedKeyEnumeration, class file '/home/jovyan/spark/jars/apache-log4j-extras-1.2.17.jar(org/apache/log4j/SortedKeyEnumeration.class)' has location not matching its contents: contains class SortedKeyEnumeration\n",
       "error: error while loading Hierarchy, class file '/home/jovyan/spark/jars/apache-log4j-extras-1.2.17.jar(org/apache/log4j/Hierarchy.class)' has location not matching its contents: contains class Hierarchy\n",
       "error: error while loading SimpleLayout, class file '/home/jovyan/spark/jars/apache-log4j-extras-1.2.17.jar(org/apache/log4j/SimpleLayout.class)' has location not matching its contents: contains class SimpleLayout\n",
       "error: error while loading PatternLayout, class file '/home/jovyan/spark/jars/apache-log4j-extras-1.2.17.jar(org/apache/log4j/PatternLayout.class)' has location not matching its contents: contains class PatternLayout\n",
       "error: error while loading LogSF, class file '/home/jovyan/spark/jars/apache-log4j-extras-1.2.17.jar(org/apache/log4j/LogSF.class)' has location not matching its contents: contains class LogSF\n",
       "error: error while loading ProvisionNode, class file '/home/jovyan/spark/jars/apache-log4j-extras-1.2.17.jar(org/apache/log4j/ProvisionNode.class)' has location not matching its contents: contains class ProvisionNode\n",
       "error: error while loading Appender, class file '/home/jovyan/spark/jars/apache-log4j-extras-1.2.17.jar(org/apache/log4j/Appender.class)' has location not matching its contents: contains class Appender\n",
       "error: error while loading Category, class file '/home/jovyan/spark/jars/apache-log4j-extras-1.2.17.jar(org/apache/log4j/Category.class)' has location not matching its contents: contains class Category\n",
       "error: error while loading RollingFileAppender, class file '/home/jovyan/spark/jars/apache-log4j-extras-1.2.17.jar(org/apache/log4j/RollingFileAppender.class)' has location not matching its contents: contains class RollingFileAppender\n",
       "error: error while loading WriterAppender, class file '/home/jovyan/spark/jars/apache-log4j-extras-1.2.17.jar(org/apache/log4j/WriterAppender.class)' has location not matching its contents: contains class WriterAppender\n",
       "error: error while loading HTMLLayout, class file '/home/jovyan/spark/jars/apache-log4j-extras-1.2.17.jar(org/apache/log4j/HTMLLayout.class)' has location not matching its contents: contains class HTMLLayout\n",
       "error: error while loading EnhancedPatternLayout, class file '/home/jovyan/spark/jars/apache-log4j-extras-1.2.17.jar(org/apache/log4j/EnhancedPatternLayout.class)' has location not matching its contents: contains class EnhancedPatternLayout\n",
       "error: error while loading DailyRollingFileAppender, class file '/home/jovyan/spark/jars/apache-log4j-extras-1.2.17.jar(org/apache/log4j/DailyRollingFileAppender.class)' has location not matching its contents: contains class DailyRollingFileAppender\n",
       "error: error while loading FileAppender, class file '/home/jovyan/spark/jars/apache-log4j-extras-1.2.17.jar(org/apache/log4j/FileAppender.class)' has location not matching its contents: contains class FileAppender\n",
       "error: error while loading Dispatcher, class file '/home/jovyan/spark/jars/apache-log4j-extras-1.2.17.jar(org/apache/log4j/Dispatcher.class)' has location not matching its contents: contains class Dispatcher\n",
       "error: error while loading DefaultCategoryFactory, class file '/home/jovyan/spark/jars/apache-log4j-extras-1.2.17.jar(org/apache/log4j/DefaultCategoryFactory.class)' has location not matching its contents: contains class DefaultCategoryFactory\n",
       "error: error while loading MDC, class file '/home/jovyan/spark/jars/apache-log4j-extras-1.2.17.jar(org/apache/log4j/MDC.class)' has location not matching its contents: contains class MDC\n",
       "error: error while loading Priority, class file '/home/jovyan/spark/jars/apache-log4j-extras-1.2.17.jar(org/apache/log4j/Priority.class)' has location not matching its contents: contains class Priority\n",
       "error: error while loading DefaultThrowableRenderer, class file '/home/jovyan/spark/jars/apache-log4j-extras-1.2.17.jar(org/apache/log4j/DefaultThrowableRenderer.class)' has location not matching its contents: contains class DefaultThrowableRenderer\n",
       "error: error while loading DBAppender, class file '/home/jovyan/spark/jars/apache-log4j-extras-1.2.17.jar(org/apache/log4j/DBAppender.class)' has location not matching its contents: contains class DBAppender\n",
       "error: error while loading LogMF, class file '/home/jovyan/spark/jars/apache-log4j-extras-1.2.17.jar(org/apache/log4j/LogMF.class)' has location not matching its contents: contains class LogMF\n",
       "error: error while loading PropertyConfigurator, class file '/home/jovyan/spark/jars/apache-log4j-extras-1.2.17.jar(org/apache/log4j/PropertyConfigurator.class)' has location not matching its contents: contains class PropertyConfigurator\n",
       "error: error while loading LoggerRepositoryExImpl, class file '/home/jovyan/spark/jars/apache-log4j-extras-1.2.17.jar(org/apache/log4j/LoggerRepositoryExImpl.class)' has location not matching its contents: contains class LoggerRepositoryExImpl\n",
       "error: error while loading PropertyWatchdog, class file '/home/jovyan/spark/jars/apache-log4j-extras-1.2.17.jar(org/apache/log4j/PropertyWatchdog.class)' has location not matching its contents: contains class PropertyWatchdog\n",
       "error: error while loading EnhancedThrowableRenderer, class file '/home/jovyan/spark/jars/apache-log4j-extras-1.2.17.jar(org/apache/log4j/EnhancedThrowableRenderer.class)' has location not matching its contents: contains class EnhancedThrowableRenderer\n",
       "error: error while loading BasicConfigurator, class file '/home/jovyan/spark/jars/apache-log4j-extras-1.2.17.jar(org/apache/log4j/BasicConfigurator.class)' has location not matching its contents: contains class BasicConfigurator\n",
       "error: error while loading AppenderSkeleton, class file '/home/jovyan/spark/jars/apache-log4j-extras-1.2.17.jar(org/apache/log4j/AppenderSkeleton.class)' has location not matching its contents: contains class AppenderSkeleton\n",
       "error: error while loading Logger, class file '/home/jovyan/spark/jars/apache-log4j-extras-1.2.17.jar(org/apache/log4j/Logger.class)' has location not matching its contents: contains class Logger\n",
       "error: error while loading Level, class file '/home/jovyan/spark/jars/apache-log4j-extras-1.2.17.jar(org/apache/log4j/Level.class)' has location not matching its contents: contains class Level\n",
       "error: error while loading LogManager, class file '/home/jovyan/spark/jars/apache-log4j-extras-1.2.17.jar(org/apache/log4j/LogManager.class)' has location not matching its contents: contains class LogManager\n",
       "error: error while loading RollingCalendar, class file '/home/jovyan/spark/jars/apache-log4j-extras-1.2.17.jar(org/apache/log4j/RollingCalendar.class)' has location not matching its contents: contains class RollingCalendar\n",
       "error: error while loading LogXF, class file '/home/jovyan/spark/jars/apache-log4j-extras-1.2.17.jar(org/apache/log4j/LogXF.class)' has location not matching its contents: contains class LogXF\n",
       "error: error while loading TTCCLayout, class file '/home/jovyan/spark/jars/apache-log4j-extras-1.2.17.jar(org/apache/log4j/TTCCLayout.class)' has location not matching its contents: contains class TTCCLayout\n",
       "error: error while loading NameValue, class file '/home/jovyan/spark/jars/apache-log4j-extras-1.2.17.jar(org/apache/log4j/NameValue.class)' has location not matching its contents: contains class NameValue\n",
       "error: error while loading CategoryKey, class file '/home/jovyan/spark/jars/apache-log4j-extras-1.2.17.jar(org/apache/log4j/CategoryKey.class)' has location not matching its contents: contains class CategoryKey\n",
       "error: error while loading Layout, class file '/home/jovyan/spark/jars/apache-log4j-extras-1.2.17.jar(org/apache/log4j/Layout.class)' has location not matching its contents: contains class Layout\n",
       "error: error while loading ConsoleAppender, class file '/home/jovyan/spark/jars/apache-log4j-extras-1.2.17.jar(org/apache/log4j/ConsoleAppender.class)' has location not matching its contents: contains class ConsoleAppender\n",
       "error: error while loading AsyncAppender, class file '/home/jovyan/spark/jars/apache-log4j-extras-1.2.17.jar(org/apache/log4j/AsyncAppender.class)' has location not matching its contents: contains class AsyncAppender\n",
       "error: error while loading ByteType, class file '/home/jovyan/spark/jars/spark-catalyst_2.11-2.4.5.jar(org/apache/spark/sql/types/ByteType.class)' has location not matching its contents: contains class ByteType\n",
       "error: error while loading PythonUserDefinedType, class file '/home/jovyan/spark/jars/spark-catalyst_2.11-2.4.5.jar(org/apache/spark/sql/types/PythonUserDefinedType.class)' has location not matching its contents: contains class PythonUserDefinedType\n",
       "error: error while loading UserDefinedType, class file '/home/jovyan/spark/jars/spark-catalyst_2.11-2.4.5.jar(org/apache/spark/sql/types/UserDefinedType.class)' has location not matching its contents: contains class UserDefinedType\n",
       "error: error while loading DataTypes, class file '/home/jovyan/spark/jars/spark-catalyst_2.11-2.4.5.jar(org/apache/spark/sql/types/DataTypes.class)' has location not matching its contents: contains class DataTypes\n",
       "error: error while loading LongType, class file '/home/jovyan/spark/jars/spark-catalyst_2.11-2.4.5.jar(org/apache/spark/sql/types/LongType.class)' has location not matching its contents: contains class LongType\n",
       "error: error while loading MetadataBuilder, class file '/home/jovyan/spark/jars/spark-catalyst_2.11-2.4.5.jar(org/apache/spark/sql/types/MetadataBuilder.class)' has location not matching its contents: contains class MetadataBuilder\n",
       "error: error while loading TypeCollection, class file '/home/jovyan/spark/jars/spark-catalyst_2.11-2.4.5.jar(org/apache/spark/sql/types/TypeCollection.class)' has location not matching its contents: contains class TypeCollection\n",
       "error: error while loading AnyDataType, class file '/home/jovyan/spark/jars/spark-catalyst_2.11-2.4.5.jar(org/apache/spark/sql/types/AnyDataType.class)' has location not matching its contents: contains class AnyDataType\n",
       "error: error while loading NullType, class file '/home/jovyan/spark/jars/spark-catalyst_2.11-2.4.5.jar(org/apache/spark/sql/types/NullType.class)' has location not matching its contents: contains class NullType\n",
       "error: error while loading ShortType, class file '/home/jovyan/spark/jars/spark-catalyst_2.11-2.4.5.jar(org/apache/spark/sql/types/ShortType.class)' has location not matching its contents: contains class ShortType\n",
       "error: error while loading IntegralType, class file '/home/jovyan/spark/jars/spark-catalyst_2.11-2.4.5.jar(org/apache/spark/sql/types/IntegralType.class)' has location not matching its contents: contains class IntegralType\n",
       "error: error while loading HiveStringType, class file '/home/jovyan/spark/jars/spark-catalyst_2.11-2.4.5.jar(org/apache/spark/sql/types/HiveStringType.class)' has location not matching its contents: contains class HiveStringType\n",
       "error: error while loading ArrayType, class file '/home/jovyan/spark/jars/spark-catalyst_2.11-2.4.5.jar(org/apache/spark/sql/types/ArrayType.class)' has location not matching its contents: contains class ArrayType\n",
       "error: error while loading BinaryType, class file '/home/jovyan/spark/jars/spark-catalyst_2.11-2.4.5.jar(org/apache/spark/sql/types/BinaryType.class)' has location not matching its contents: contains class BinaryType\n",
       "error: error while loading TimestampType, class file '/home/jovyan/spark/jars/spark-catalyst_2.11-2.4.5.jar(org/apache/spark/sql/types/TimestampType.class)' has location not matching its contents: contains class TimestampType\n",
       "error: error while loading BooleanType, class file '/home/jovyan/spark/jars/spark-catalyst_2.11-2.4.5.jar(org/apache/spark/sql/types/BooleanType.class)' has location not matching its contents: contains class BooleanType\n",
       "error: error while loading IntegerType, class file '/home/jovyan/spark/jars/spark-catalyst_2.11-2.4.5.jar(org/apache/spark/sql/types/IntegerType.class)' has location not matching its contents: contains class IntegerType\n",
       "error: error while loading DecimalType, class file '/home/jovyan/spark/jars/spark-catalyst_2.11-2.4.5.jar(org/apache/spark/sql/types/DecimalType.class)' has location not matching its contents: contains class DecimalType\n",
       "error: error while loading SQLUserDefinedType, class file '/home/jovyan/spark/jars/spark-catalyst_2.11-2.4.5.jar(org/apache/spark/sql/types/SQLUserDefinedType.class)' has location not matching its contents: contains class SQLUserDefinedType\n",
       "error: error while loading FloatType, class file '/home/jovyan/spark/jars/spark-catalyst_2.11-2.4.5.jar(org/apache/spark/sql/types/FloatType.class)' has location not matching its contents: contains class FloatType\n",
       "error: error while loading CalendarIntervalType, class file '/home/jovyan/spark/jars/spark-catalyst_2.11-2.4.5.jar(org/apache/spark/sql/types/CalendarIntervalType.class)' has location not matching its contents: contains class CalendarIntervalType\n",
       "error: error while loading CharType, class file '/home/jovyan/spark/jars/spark-catalyst_2.11-2.4.5.jar(org/apache/spark/sql/types/CharType.class)' has location not matching its contents: contains class CharType\n",
       "error: error while loading MapType, class file '/home/jovyan/spark/jars/spark-catalyst_2.11-2.4.5.jar(org/apache/spark/sql/types/MapType.class)' has location not matching its contents: contains class MapType\n",
       "error: error while loading DateType, class file '/home/jovyan/spark/jars/spark-catalyst_2.11-2.4.5.jar(org/apache/spark/sql/types/DateType.class)' has location not matching its contents: contains class DateType\n",
       "error: error while loading VarcharType, class file '/home/jovyan/spark/jars/spark-catalyst_2.11-2.4.5.jar(org/apache/spark/sql/types/VarcharType.class)' has location not matching its contents: contains class VarcharType\n",
       "error: error while loading UDTRegistration, class file '/home/jovyan/spark/jars/spark-catalyst_2.11-2.4.5.jar(org/apache/spark/sql/types/UDTRegistration.class)' has location not matching its contents: contains class UDTRegistration\n"
      ]
     },
     "metadata": {},
     "output_type": "display_data",
     "source": "user"
    },
    {
     "data": {
      "text/plain": [
       "[sepal_length: double, sepal_width: double ... 3 more fields]"
      ]
     },
     "execution_count": 9,
     "metadata": {},
     "output_type": "execute_result"
    }
   ],
   "source": [
    "import org.apache.spark.ml.feature.StringIndexer\n",
    "val stringIndexer = new StringIndexer().\n",
    "  setInputCol(\"species\").\n",
    "  setOutputCol(\"classIndex\").\n",
    "  fit(rawInput)\n",
    "val labelTransformed = stringIndexer.transform(rawInput).drop(\"species\")"
   ]
  },
  {
   "cell_type": "code",
   "execution_count": 10,
   "metadata": {},
   "outputs": [
    {
     "data": {
      "text/plain": [
       "vectorAssembler = vecAssembler_c64c0979e891\n",
       "xgbInput = [features: vector, classIndex: double]\n"
      ]
     },
     "metadata": {},
     "output_type": "display_data",
     "source": "user"
    },
    {
     "data": {
      "text/plain": [
       "error: error while loading PipelineStage, class file '/home/jovyan/spark/jars/spark-mllib_2.11-2.4.5.jar(org/apache/spark/ml/PipelineStage.class)' has location not matching its contents: contains class PipelineStage\n",
       "error: error while loading PipelineModel, class file '/home/jovyan/spark/jars/spark-mllib_2.11-2.4.5.jar(org/apache/spark/ml/PipelineModel.class)' has location not matching its contents: contains class PipelineModel\n",
       "error: error while loading Predictor, class file '/home/jovyan/spark/jars/spark-mllib_2.11-2.4.5.jar(org/apache/spark/ml/Predictor.class)' has location not matching its contents: contains class Predictor\n",
       "error: error while loading PredictorParams, class file '/home/jovyan/spark/jars/spark-mllib_2.11-2.4.5.jar(org/apache/spark/ml/PredictorParams.class)' has location not matching its contents: contains class PredictorParams\n",
       "error: error while loading Pipeline, class file '/home/jovyan/spark/jars/spark-mllib_2.11-2.4.5.jar(org/apache/spark/ml/Pipeline.class)' has location not matching its contents: contains class Pipeline\n",
       "error: error while loading Estimator, class file '/home/jovyan/spark/jars/spark-mllib_2.11-2.4.5.jar(org/apache/spark/ml/Estimator.class)' has location not matching its contents: contains class Estimator\n",
       "error: error while loading UnaryTransformer, class file '/home/jovyan/spark/jars/spark-mllib_2.11-2.4.5.jar(org/apache/spark/ml/UnaryTransformer.class)' has location not matching its contents: contains class UnaryTransformer\n",
       "error: error while loading Transformer, class file '/home/jovyan/spark/jars/spark-mllib_2.11-2.4.5.jar(org/apache/spark/ml/Transformer.class)' has location not matching its contents: contains class Transformer\n",
       "error: error while loading PredictionModel, class file '/home/jovyan/spark/jars/spark-mllib_2.11-2.4.5.jar(org/apache/spark/ml/PredictionModel.class)' has location not matching its contents: contains class PredictionModel\n",
       "error: error while loading Model, class file '/home/jovyan/spark/jars/spark-mllib_2.11-2.4.5.jar(org/apache/spark/ml/Model.class)' has location not matching its contents: contains class Model\n",
       "error: error while loading package, class file '/home/jovyan/spark/jars/spark-mllib_2.11-2.4.5.jar(org/apache/spark/ml/feature/package.class)' has location not matching its contents: contains package object feature\n",
       "error: error while loading package, class file '/home/jovyan/spark/jars/spark-mllib_2.11-2.4.5.jar(org/apache/spark/ml/attribute/package.class)' has location not matching its contents: contains package object attribute\n",
       "error: error while loading MatrixUDT, class file '/home/jovyan/spark/jars/spark-mllib_2.11-2.4.5.jar(org/apache/spark/ml/linalg/MatrixUDT.class)' has location not matching its contents: contains class MatrixUDT\n",
       "error: error while loading JsonMatrixConverter, class file '/home/jovyan/spark/jars/spark-mllib_2.11-2.4.5.jar(org/apache/spark/ml/linalg/JsonMatrixConverter.class)' has location not matching its contents: contains class JsonMatrixConverter\n",
       "error: error while loading SQLDataTypes, class file '/home/jovyan/spark/jars/spark-mllib_2.11-2.4.5.jar(org/apache/spark/ml/linalg/SQLDataTypes.class)' has location not matching its contents: contains class SQLDataTypes\n",
       "error: error while loading VectorUDT, class file '/home/jovyan/spark/jars/spark-mllib_2.11-2.4.5.jar(org/apache/spark/ml/linalg/VectorUDT.class)' has location not matching its contents: contains class VectorUDT\n",
       "error: error while loading JsonVectorConverter, class file '/home/jovyan/spark/jars/spark-mllib_2.11-2.4.5.jar(org/apache/spark/ml/linalg/JsonVectorConverter.class)' has location not matching its contents: contains class JsonVectorConverter\n",
       "error: error while loading SparseVector, class file '/home/jovyan/spark/jars/spark-mllib-local_2.11-2.4.5.jar(org/apache/spark/ml/linalg/SparseVector.class)' has location not matching its contents: contains class SparseVector\n",
       "error: error while loading DenseMatrix, class file '/home/jovyan/spark/jars/spark-mllib-local_2.11-2.4.5.jar(org/apache/spark/ml/linalg/DenseMatrix.class)' has location not matching its contents: contains class DenseMatrix\n",
       "error: error while loading BLAS, class file '/home/jovyan/spark/jars/spark-mllib-local_2.11-2.4.5.jar(org/apache/spark/ml/linalg/BLAS.class)' has location not matching its contents: contains class BLAS\n",
       "error: error while loading Vector, class file '/home/jovyan/spark/jars/spark-mllib-local_2.11-2.4.5.jar(org/apache/spark/ml/linalg/Vector.class)' has location not matching its contents: contains class Vector\n",
       "error: error while loading Matrices, class file '/home/jovyan/spark/jars/spark-mllib-local_2.11-2.4.5.jar(org/apache/spark/ml/linalg/Matrices.class)' has location not matching its contents: contains class Matrices\n",
       "error: error while loading SparseMatrix, class file '/home/jovyan/spark/jars/spark-mllib-local_2.11-2.4.5.jar(org/apache/spark/ml/linalg/SparseMatrix.class)' has location not matching its contents: contains class SparseMatrix\n",
       "error: error while loading Vectors, class file '/home/jovyan/spark/jars/spark-mllib-local_2.11-2.4.5.jar(org/apache/spark/ml/linalg/Vectors.class)' has location not matching its contents: contains class Vectors\n",
       "error: error while loading DenseVector, class file '/home/jovyan/spark/jars/spark-mllib-local_2.11-2.4.5.jar(org/apache/spark/ml/linalg/DenseVector.class)' has location not matching its contents: contains class DenseVector\n",
       "error: error while loading Matrix, class file '/home/jovyan/spark/jars/spark-mllib-local_2.11-2.4.5.jar(org/apache/spark/ml/linalg/Matrix.class)' has location not matching its contents: contains class Matrix\n"
      ]
     },
     "metadata": {},
     "output_type": "display_data",
     "source": "user"
    },
    {
     "data": {
      "text/plain": [
       "[features: vector, classIndex: double]"
      ]
     },
     "execution_count": 10,
     "metadata": {},
     "output_type": "execute_result"
    }
   ],
   "source": [
    "import org.apache.spark.ml.feature.VectorAssembler\n",
    "val vectorAssembler = new VectorAssembler().\n",
    "  setInputCols(Array(\"sepal_length\", \"sepal_width\", \"petal_length\", \"petal_width\")).\n",
    "  setOutputCol(\"features\")\n",
    "val xgbInput = vectorAssembler.transform(labelTransformed).select(\"features\", \"classIndex\")"
   ]
  },
  {
   "cell_type": "code",
   "execution_count": 11,
   "metadata": {},
   "outputs": [],
   "source": [
    "import ml.dmlc.xgboost4j.scala.spark.XGBoostClassifier\n",
    "import ml.dmlc.xgboost4j.scala.spark.TrackerConf"
   ]
  },
  {
   "cell_type": "code",
   "execution_count": 12,
   "metadata": {},
   "outputs": [
    {
     "data": {
      "text/plain": [
       "xgbParam = Map(num_workers -> 2, num_class -> 3, objective -> multi:softprob, num_round -> 100, missing -> -999, tracker_conf -> TrackerConf(3600000,scala), eta -> 0.1)\n",
       "xgbClassifier = xgbc_1cc855528a0b\n"
      ]
     },
     "metadata": {},
     "output_type": "display_data",
     "source": "user"
    },
    {
     "data": {
      "text/plain": [
       "xgbc_1cc855528a0b"
      ]
     },
     "execution_count": 12,
     "metadata": {},
     "output_type": "execute_result"
    }
   ],
   "source": [
    "val xgbParam = Map(\"eta\" -> 0.1f,\n",
    "      \"missing\" -> -999,\n",
    "      \"objective\" -> \"multi:softprob\",\n",
    "      \"num_class\" -> 3,\n",
    "      \"num_round\" -> 100,\n",
    "      \"num_workers\" -> 2,\n",
    "      \"tracker_conf\"-> TrackerConf(60 * 60 * 1000, \"scala\"))\n",
    "val xgbClassifier = new XGBoostClassifier(xgbParam).\n",
    "      setFeaturesCol(\"features\").\n",
    "      setLabelCol(\"classIndex\")\n",
    "xgbClassifier.setMaxDepth(2)"
   ]
  },
  {
   "cell_type": "code",
   "execution_count": null,
   "metadata": {},
   "outputs": [],
   "source": [
    "val xgbClassificationModel = xgbClassifier.fit(xgbInput)"
   ]
  },
  {
   "cell_type": "markdown",
   "metadata": {},
   "source": [
    "# Testing On Train"
   ]
  },
  {
   "cell_type": "code",
   "execution_count": null,
   "metadata": {},
   "outputs": [],
   "source": [
    "xgbInput.select(\"features\").collect()"
   ]
  },
  {
   "cell_type": "code",
   "execution_count": null,
   "metadata": {},
   "outputs": [],
   "source": [
    "val trainPred = xgbClassificationModel.predict()"
   ]
  }
 ],
 "metadata": {
  "kernelspec": {
   "display_name": "Apache Toree - Scala",
   "language": "scala",
   "name": "apache_toree_scala"
  },
  "language_info": {
   "codemirror_mode": "text/x-scala",
   "file_extension": ".scala",
   "mimetype": "text/x-scala",
   "name": "scala",
   "pygments_lexer": "scala",
   "version": "2.11.12"
  }
 },
 "nbformat": 4,
 "nbformat_minor": 4
}
