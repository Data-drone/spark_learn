{
 "cells": [
  {
   "cell_type": "markdown",
   "metadata": {},
   "source": [
    "# XGBoost Workbook\n",
    "splitting it out cause it's more complicated"
   ]
  },
  {
   "cell_type": "markdown",
   "metadata": {},
   "source": [
    "this works with the 0.72 but not 0.9"
   ]
  },
  {
   "cell_type": "code",
   "execution_count": 2,
   "metadata": {},
   "outputs": [
    {
     "name": "stdout",
     "output_type": "stream",
     "text": [
      "--2020-04-13 23:34:34--  https://repo1.maven.org/maven2/ml/dmlc/xgboost4j/0.72/xgboost4j-0.72.jar\n",
      "Resolving repo1.maven.org (repo1.maven.org)... 151.101.40.209\n",
      "Connecting to repo1.maven.org (repo1.maven.org)|151.101.40.209|:443... connected.\n",
      "HTTP request sent, awaiting response... 200 OK\n",
      "Length: 2134592 (2.0M) [application/java-archive]\n",
      "Saving to: ‘../data/libs/xgboost4j-0.72.jar’\n",
      "\n",
      "../data/libs/xgboos 100%[===================>]   2.04M  1.21MB/s    in 1.7s    \n",
      "\n",
      "2020-04-13 23:34:37 (1.21 MB/s) - ‘../data/libs/xgboost4j-0.72.jar’ saved [2134592/2134592]\n",
      "\n",
      "--2020-04-13 23:34:37--  https://repo1.maven.org/maven2/ml/dmlc/xgboost4j-spark/0.72/xgboost4j-spark-0.72.jar\n",
      "Resolving repo1.maven.org (repo1.maven.org)... 151.101.40.209\n",
      "Connecting to repo1.maven.org (repo1.maven.org)|151.101.40.209|:443... connected.\n",
      "HTTP request sent, awaiting response... 200 OK\n",
      "Length: 296184 (289K) [application/java-archive]\n",
      "Saving to: ‘../data/libs/xgboost4j-spark-0.72.jar’\n",
      "\n",
      "../data/libs/xgboos 100%[===================>] 289.24K   360KB/s    in 0.8s    \n",
      "\n",
      "2020-04-13 23:34:39 (360 KB/s) - ‘../data/libs/xgboost4j-spark-0.72.jar’ saved [296184/296184]\n",
      "\n"
     ]
    }
   ],
   "source": [
    "!wget https://repo1.maven.org/maven2/ml/dmlc/xgboost4j/0.72/xgboost4j-0.72.jar -O ../data/libs/xgboost4j-0.72.jar\n",
    "!wget https://repo1.maven.org/maven2/ml/dmlc/xgboost4j-spark/0.72/xgboost4j-spark-0.72.jar -O ../data/libs/xgboost4j-spark-0.72.jar\n",
    "#!wget https://github.com/dmlc/xgboost/files/2161553/sparkxgb.zip -O ../data/libs/sparkxgb.zip"
   ]
  },
  {
   "cell_type": "code",
   "execution_count": 3,
   "metadata": {},
   "outputs": [
    {
     "name": "stdout",
     "output_type": "stream",
     "text": [
      "/opt/spark-data/libs/xgboost4j-0.90.jar: Permission denied\n",
      "/opt/spark-data/libs/xgboost4j-spark-0.90.jar: Permission denied\n"
     ]
    }
   ],
   "source": [
    "!wget https://repo1.maven.org/maven2/ml/dmlc/xgboost4j/0.90/xgboost4j-0.90.jar -O /opt/spark-data/libs/xgboost4j-0.90.jar\n",
    "!wget https://repo1.maven.org/maven2/ml/dmlc/xgboost4j-spark/0.90/xgboost4j-spark-0.90.jar -O /opt/spark-data/libs/xgboost4j-spark-0.90.jar"
   ]
  },
  {
   "cell_type": "code",
   "execution_count": 4,
   "metadata": {},
   "outputs": [
    {
     "name": "stdout",
     "output_type": "stream",
     "text": [
      "/opt/spark-data/libs/pyspark-xgboost.zip: Permission denied\n"
     ]
    }
   ],
   "source": [
    "!wget https://github.com/dmlc/xgboost/files/3384356/pyspark-xgboost_0.90_261ab52e07bec461c711d209b70428ab481db470.zip -O /opt/spark-data/libs/pyspark-xgboost.zip"
   ]
  },
  {
   "cell_type": "code",
   "execution_count": 5,
   "metadata": {},
   "outputs": [],
   "source": [
    "import os\n",
    "os.environ['PYSPARK_SUBMIT_ARGS'] = '--jars /opt/spark-data/libs/xgboost4j-spark-0.90.jar,/opt/spark-data/libs/xgboost4j-0.90.jar pyspark-shell'"
   ]
  },
  {
   "cell_type": "code",
   "execution_count": 6,
   "metadata": {},
   "outputs": [],
   "source": [
    "from pyspark.sql import SparkSession"
   ]
  },
  {
   "cell_type": "code",
   "execution_count": 7,
   "metadata": {},
   "outputs": [],
   "source": [
    "spark = SparkSession\\\n",
    "        .builder\\\n",
    "        .appName(\"PySpark xgb new\")\\\n",
    "        .master(\"spark://spark-master:7077\")\\\n",
    "        .getOrCreate()"
   ]
  },
  {
   "cell_type": "code",
   "execution_count": 8,
   "metadata": {},
   "outputs": [
    {
     "name": "stdout",
     "output_type": "stream",
     "text": [
      "pyspark-xgboost.zip  xgboost4j-0.90.jar  xgboost4j-spark-0.90.jar\n"
     ]
    }
   ],
   "source": [
    "!ls /opt/spark-data/libs"
   ]
  },
  {
   "cell_type": "code",
   "execution_count": 9,
   "metadata": {},
   "outputs": [],
   "source": [
    "spark.sparkContext.addPyFile(\"/opt/spark-data/libs/pyspark-xgboost.zip\")"
   ]
  },
  {
   "cell_type": "code",
   "execution_count": 10,
   "metadata": {},
   "outputs": [],
   "source": [
    "dataset = spark.read.format(\"libsvm\").load(\"/opt/spark-data/iris.scale\")\n",
    "# split dataset into train and test\n",
    "train, test = dataset.randomSplit([0.8,0.2])"
   ]
  },
  {
   "cell_type": "code",
   "execution_count": 11,
   "metadata": {},
   "outputs": [
    {
     "name": "stdout",
     "output_type": "stream",
     "text": [
      "root\n",
      " |-- label: double (nullable = true)\n",
      " |-- features: vector (nullable = true)\n",
      "\n"
     ]
    }
   ],
   "source": [
    "dataset.printSchema()"
   ]
  },
  {
   "cell_type": "markdown",
   "metadata": {},
   "source": [
    "lets look at one entry"
   ]
  },
  {
   "cell_type": "code",
   "execution_count": 12,
   "metadata": {},
   "outputs": [
    {
     "data": {
      "text/plain": [
       "pyspark.sql.dataframe.DataFrame"
      ]
     },
     "execution_count": 12,
     "metadata": {},
     "output_type": "execute_result"
    }
   ],
   "source": [
    "type(dataset.select(\"features\")) #.toDense()"
   ]
  },
  {
   "cell_type": "code",
   "execution_count": 13,
   "metadata": {},
   "outputs": [
    {
     "name": "stdout",
     "output_type": "stream",
     "text": [
      "+-----+--------------------+\n",
      "|label|            features|\n",
      "+-----+--------------------+\n",
      "|  1.0|(4,[0,1,2,3],[-0....|\n",
      "|  1.0|(4,[0,1,2,3],[-0....|\n",
      "|  1.0|(4,[0,2,3],[-0.77...|\n",
      "|  1.0|(4,[0,1,2,3],[-0....|\n",
      "|  1.0|(4,[0,1,2,3],[-0....|\n",
      "|  1.0|(4,[0,1,2,3],[-0....|\n",
      "|  1.0|(4,[0,1,2,3],[-0....|\n",
      "|  1.0|(4,[0,1,2,3],[-0....|\n",
      "|  1.0|(4,[0,1,2,3],[-0....|\n",
      "|  1.0|(4,[0,1,2,3],[-0....|\n",
      "|  1.0|(4,[0,1,2,3],[-0....|\n",
      "|  1.0|(4,[0,1,2,3],[-0....|\n",
      "|  1.0|(4,[0,1,2,3],[-0....|\n",
      "|  1.0|(4,[0,1,2,3],[-1....|\n",
      "|  1.0|(4,[0,1,2,3],[-0....|\n",
      "|  1.0|(4,[0,1,2,3],[-0....|\n",
      "|  1.0|(4,[0,1,2,3],[-0....|\n",
      "|  1.0|(4,[0,1,2,3],[-0....|\n",
      "|  1.0|(4,[0,1,2,3],[-0....|\n",
      "|  1.0|(4,[0,1,2,3],[-0....|\n",
      "+-----+--------------------+\n",
      "only showing top 20 rows\n",
      "\n"
     ]
    }
   ],
   "source": [
    "dataset.show()"
   ]
  },
  {
   "cell_type": "code",
   "execution_count": 14,
   "metadata": {},
   "outputs": [
    {
     "data": {
      "text/plain": [
       "pyspark.sql.dataframe.DataFrame"
      ]
     },
     "execution_count": 14,
     "metadata": {},
     "output_type": "execute_result"
    }
   ],
   "source": [
    "type(dataset)"
   ]
  },
  {
   "cell_type": "code",
   "execution_count": 15,
   "metadata": {},
   "outputs": [],
   "source": [
    "from pyspark.sql.types import *\n",
    "schema = StructType([\n",
    "            StructField(\"sepal length\", DoubleType(), True),\n",
    "            StructField(\"sepal width\", DoubleType(), True),\n",
    "            StructField(\"petal length\", DoubleType(), True),\n",
    "            StructField(\"petal width\", DoubleType(), True),\n",
    "            StructField(\"class\", StringType(), True)\n",
    "        ])"
   ]
  },
  {
   "cell_type": "code",
   "execution_count": 16,
   "metadata": {},
   "outputs": [],
   "source": [
    "rawInput = spark.read.schema(schema).csv(\"/opt/spark-data/iris.data\")"
   ]
  },
  {
   "cell_type": "code",
   "execution_count": 17,
   "metadata": {},
   "outputs": [
    {
     "name": "stdout",
     "output_type": "stream",
     "text": [
      "+------------+-----------+------------+-----------+-----------+\n",
      "|sepal length|sepal width|petal length|petal width|      class|\n",
      "+------------+-----------+------------+-----------+-----------+\n",
      "|         5.1|        3.5|         1.4|        0.2|Iris-setosa|\n",
      "|         4.9|        3.0|         1.4|        0.2|Iris-setosa|\n",
      "|         4.7|        3.2|         1.3|        0.2|Iris-setosa|\n",
      "|         4.6|        3.1|         1.5|        0.2|Iris-setosa|\n",
      "|         5.0|        3.6|         1.4|        0.2|Iris-setosa|\n",
      "|         5.4|        3.9|         1.7|        0.4|Iris-setosa|\n",
      "|         4.6|        3.4|         1.4|        0.3|Iris-setosa|\n",
      "|         5.0|        3.4|         1.5|        0.2|Iris-setosa|\n",
      "|         4.4|        2.9|         1.4|        0.2|Iris-setosa|\n",
      "|         4.9|        3.1|         1.5|        0.1|Iris-setosa|\n",
      "|         5.4|        3.7|         1.5|        0.2|Iris-setosa|\n",
      "|         4.8|        3.4|         1.6|        0.2|Iris-setosa|\n",
      "|         4.8|        3.0|         1.4|        0.1|Iris-setosa|\n",
      "|         4.3|        3.0|         1.1|        0.1|Iris-setosa|\n",
      "|         5.8|        4.0|         1.2|        0.2|Iris-setosa|\n",
      "|         5.7|        4.4|         1.5|        0.4|Iris-setosa|\n",
      "|         5.4|        3.9|         1.3|        0.4|Iris-setosa|\n",
      "|         5.1|        3.5|         1.4|        0.3|Iris-setosa|\n",
      "|         5.7|        3.8|         1.7|        0.3|Iris-setosa|\n",
      "|         5.1|        3.8|         1.5|        0.3|Iris-setosa|\n",
      "+------------+-----------+------------+-----------+-----------+\n",
      "only showing top 20 rows\n",
      "\n"
     ]
    }
   ],
   "source": [
    "rawInput.show()"
   ]
  },
  {
   "cell_type": "code",
   "execution_count": 18,
   "metadata": {},
   "outputs": [
    {
     "name": "stdout",
     "output_type": "stream",
     "text": [
      "root\n",
      " |-- sepal length: double (nullable = true)\n",
      " |-- sepal width: double (nullable = true)\n",
      " |-- petal length: double (nullable = true)\n",
      " |-- petal width: double (nullable = true)\n",
      " |-- class: string (nullable = true)\n",
      "\n"
     ]
    }
   ],
   "source": [
    "rawInput.printSchema()"
   ]
  },
  {
   "cell_type": "code",
   "execution_count": 19,
   "metadata": {},
   "outputs": [],
   "source": [
    "from pyspark.ml.feature import StringIndexer"
   ]
  },
  {
   "cell_type": "code",
   "execution_count": 20,
   "metadata": {},
   "outputs": [],
   "source": [
    "stringIndexer = StringIndexer(inputCol=\"class\", outputCol=\"classIndex\")\n",
    "model = stringIndexer.fit(rawInput)"
   ]
  },
  {
   "cell_type": "code",
   "execution_count": 21,
   "metadata": {},
   "outputs": [],
   "source": [
    "labelTransformed = model.transform(rawInput).drop(\"class\")"
   ]
  },
  {
   "cell_type": "code",
   "execution_count": 22,
   "metadata": {},
   "outputs": [
    {
     "name": "stdout",
     "output_type": "stream",
     "text": [
      "+------------+-----------+------------+-----------+----------+\n",
      "|sepal length|sepal width|petal length|petal width|classIndex|\n",
      "+------------+-----------+------------+-----------+----------+\n",
      "|         5.1|        3.5|         1.4|        0.2|       0.0|\n",
      "|         4.9|        3.0|         1.4|        0.2|       0.0|\n",
      "|         4.7|        3.2|         1.3|        0.2|       0.0|\n",
      "|         4.6|        3.1|         1.5|        0.2|       0.0|\n",
      "|         5.0|        3.6|         1.4|        0.2|       0.0|\n",
      "|         5.4|        3.9|         1.7|        0.4|       0.0|\n",
      "|         4.6|        3.4|         1.4|        0.3|       0.0|\n",
      "|         5.0|        3.4|         1.5|        0.2|       0.0|\n",
      "|         4.4|        2.9|         1.4|        0.2|       0.0|\n",
      "|         4.9|        3.1|         1.5|        0.1|       0.0|\n",
      "|         5.4|        3.7|         1.5|        0.2|       0.0|\n",
      "|         4.8|        3.4|         1.6|        0.2|       0.0|\n",
      "|         4.8|        3.0|         1.4|        0.1|       0.0|\n",
      "|         4.3|        3.0|         1.1|        0.1|       0.0|\n",
      "|         5.8|        4.0|         1.2|        0.2|       0.0|\n",
      "|         5.7|        4.4|         1.5|        0.4|       0.0|\n",
      "|         5.4|        3.9|         1.3|        0.4|       0.0|\n",
      "|         5.1|        3.5|         1.4|        0.3|       0.0|\n",
      "|         5.7|        3.8|         1.7|        0.3|       0.0|\n",
      "|         5.1|        3.8|         1.5|        0.3|       0.0|\n",
      "+------------+-----------+------------+-----------+----------+\n",
      "only showing top 20 rows\n",
      "\n"
     ]
    }
   ],
   "source": [
    "labelTransformed.show()"
   ]
  },
  {
   "cell_type": "code",
   "execution_count": 23,
   "metadata": {},
   "outputs": [],
   "source": [
    "from pyspark.ml.feature import VectorAssembler"
   ]
  },
  {
   "cell_type": "code",
   "execution_count": 24,
   "metadata": {},
   "outputs": [],
   "source": [
    "vectorAssembler = VectorAssembler(inputCols=[\"sepal length\", \"sepal width\", \"petal length\", \"petal width\"],\n",
    "                                  outputCol=\"features\")"
   ]
  },
  {
   "cell_type": "code",
   "execution_count": 25,
   "metadata": {},
   "outputs": [],
   "source": [
    "xgbInput = vectorAssembler.transform(labelTransformed)"
   ]
  },
  {
   "cell_type": "code",
   "execution_count": 26,
   "metadata": {},
   "outputs": [
    {
     "name": "stdout",
     "output_type": "stream",
     "text": [
      "+------------+-----------+------------+-----------+----------+-----------------+\n",
      "|sepal length|sepal width|petal length|petal width|classIndex|         features|\n",
      "+------------+-----------+------------+-----------+----------+-----------------+\n",
      "|         5.1|        3.5|         1.4|        0.2|       0.0|[5.1,3.5,1.4,0.2]|\n",
      "|         4.9|        3.0|         1.4|        0.2|       0.0|[4.9,3.0,1.4,0.2]|\n",
      "|         4.7|        3.2|         1.3|        0.2|       0.0|[4.7,3.2,1.3,0.2]|\n",
      "|         4.6|        3.1|         1.5|        0.2|       0.0|[4.6,3.1,1.5,0.2]|\n",
      "|         5.0|        3.6|         1.4|        0.2|       0.0|[5.0,3.6,1.4,0.2]|\n",
      "|         5.4|        3.9|         1.7|        0.4|       0.0|[5.4,3.9,1.7,0.4]|\n",
      "|         4.6|        3.4|         1.4|        0.3|       0.0|[4.6,3.4,1.4,0.3]|\n",
      "|         5.0|        3.4|         1.5|        0.2|       0.0|[5.0,3.4,1.5,0.2]|\n",
      "|         4.4|        2.9|         1.4|        0.2|       0.0|[4.4,2.9,1.4,0.2]|\n",
      "|         4.9|        3.1|         1.5|        0.1|       0.0|[4.9,3.1,1.5,0.1]|\n",
      "|         5.4|        3.7|         1.5|        0.2|       0.0|[5.4,3.7,1.5,0.2]|\n",
      "|         4.8|        3.4|         1.6|        0.2|       0.0|[4.8,3.4,1.6,0.2]|\n",
      "|         4.8|        3.0|         1.4|        0.1|       0.0|[4.8,3.0,1.4,0.1]|\n",
      "|         4.3|        3.0|         1.1|        0.1|       0.0|[4.3,3.0,1.1,0.1]|\n",
      "|         5.8|        4.0|         1.2|        0.2|       0.0|[5.8,4.0,1.2,0.2]|\n",
      "|         5.7|        4.4|         1.5|        0.4|       0.0|[5.7,4.4,1.5,0.4]|\n",
      "|         5.4|        3.9|         1.3|        0.4|       0.0|[5.4,3.9,1.3,0.4]|\n",
      "|         5.1|        3.5|         1.4|        0.3|       0.0|[5.1,3.5,1.4,0.3]|\n",
      "|         5.7|        3.8|         1.7|        0.3|       0.0|[5.7,3.8,1.7,0.3]|\n",
      "|         5.1|        3.8|         1.5|        0.3|       0.0|[5.1,3.8,1.5,0.3]|\n",
      "+------------+-----------+------------+-----------+----------+-----------------+\n",
      "only showing top 20 rows\n",
      "\n"
     ]
    }
   ],
   "source": [
    "xgbInput.show()"
   ]
  },
  {
   "cell_type": "code",
   "execution_count": 27,
   "metadata": {},
   "outputs": [],
   "source": [
    "xgbInput = xgbInput.select(\"features\", \"classIndex\")"
   ]
  },
  {
   "cell_type": "code",
   "execution_count": 28,
   "metadata": {},
   "outputs": [],
   "source": [
    "train, test = xgbInput.randomSplit([0.8,0.2])"
   ]
  },
  {
   "cell_type": "code",
   "execution_count": 29,
   "metadata": {},
   "outputs": [
    {
     "name": "stdout",
     "output_type": "stream",
     "text": [
      "+-----------------+----------+\n",
      "|         features|classIndex|\n",
      "+-----------------+----------+\n",
      "|[4.3,3.0,1.1,0.1]|       0.0|\n",
      "|[4.4,2.9,1.4,0.2]|       0.0|\n",
      "|[4.4,3.0,1.3,0.2]|       0.0|\n",
      "|[4.4,3.2,1.3,0.2]|       0.0|\n",
      "|[4.5,2.3,1.3,0.3]|       0.0|\n",
      "|[4.6,3.2,1.4,0.2]|       0.0|\n",
      "|[4.6,3.4,1.4,0.3]|       0.0|\n",
      "|[4.6,3.6,1.0,0.2]|       0.0|\n",
      "|[4.8,3.0,1.4,0.3]|       0.0|\n",
      "|[4.8,3.1,1.6,0.2]|       0.0|\n",
      "|[4.8,3.4,1.6,0.2]|       0.0|\n",
      "|[4.8,3.4,1.9,0.2]|       0.0|\n",
      "|[4.9,2.4,3.3,1.0]|       1.0|\n",
      "|[4.9,2.5,4.5,1.7]|       2.0|\n",
      "|[4.9,3.0,1.4,0.2]|       0.0|\n",
      "|[4.9,3.1,1.5,0.1]|       0.0|\n",
      "|[4.9,3.1,1.5,0.1]|       0.0|\n",
      "|[5.0,2.0,3.5,1.0]|       1.0|\n",
      "|[5.0,2.3,3.3,1.0]|       1.0|\n",
      "|[5.0,3.0,1.6,0.2]|       0.0|\n",
      "+-----------------+----------+\n",
      "only showing top 20 rows\n",
      "\n"
     ]
    }
   ],
   "source": [
    "train.show()"
   ]
  },
  {
   "cell_type": "markdown",
   "metadata": {},
   "source": [
    "load xgb module"
   ]
  },
  {
   "cell_type": "code",
   "execution_count": 30,
   "metadata": {},
   "outputs": [],
   "source": [
    "import sparkxgb"
   ]
  },
  {
   "cell_type": "code",
   "execution_count": 31,
   "metadata": {},
   "outputs": [],
   "source": [
    "xgb_model = sparkxgb.XGBoostClassifier(\n",
    "    featuresCol=\"features\",\n",
    "    labelCol=\"classIndex\"\n",
    ")"
   ]
  },
  {
   "cell_type": "code",
   "execution_count": 32,
   "metadata": {},
   "outputs": [
    {
     "data": {
      "text/plain": [
       "XGBoostClassifier_37636399a1dd"
      ]
     },
     "execution_count": 32,
     "metadata": {},
     "output_type": "execute_result"
    }
   ],
   "source": [
    "xgb_model.setParams(eta=0.1,\n",
    "                   maxDepth=2,\n",
    "                   objective=\"multi:softprob\",\n",
    "                   numClass=3,\n",
    "                   numRound=10,\n",
    "                   numWorkers=2)"
   ]
  },
  {
   "cell_type": "code",
   "execution_count": 33,
   "metadata": {},
   "outputs": [],
   "source": [
    "model = xgb_model.fit(train)"
   ]
  },
  {
   "cell_type": "code",
   "execution_count": 34,
   "metadata": {},
   "outputs": [],
   "source": [
    "results = model.transform(test)"
   ]
  },
  {
   "cell_type": "code",
   "execution_count": 35,
   "metadata": {},
   "outputs": [
    {
     "name": "stdout",
     "output_type": "stream",
     "text": [
      "+-----------------+----------+--------------------+--------------------+----------+\n",
      "|         features|classIndex|       rawPrediction|         probability|prediction|\n",
      "+-----------------+----------+--------------------+--------------------+----------+\n",
      "|[4.6,3.1,1.5,0.2]|       0.0|[1.45413875579833...|[0.70844513177871...|       0.0|\n",
      "|[4.7,3.2,1.3,0.2]|       0.0|[1.45413875579833...|[0.70844513177871...|       0.0|\n",
      "|[4.7,3.2,1.6,0.2]|       0.0|[1.45413875579833...|[0.70844513177871...|       0.0|\n",
      "|[4.8,3.0,1.4,0.1]|       0.0|[1.45413875579833...|[0.70844513177871...|       0.0|\n",
      "|[4.9,3.1,1.5,0.1]|       0.0|[1.45413875579833...|[0.70844513177871...|       0.0|\n",
      "|[5.0,3.4,1.5,0.2]|       0.0|[1.45413875579833...|[0.70844513177871...|       0.0|\n",
      "|[5.0,3.6,1.4,0.2]|       0.0|[1.45413875579833...|[0.70844513177871...|       0.0|\n",
      "|[5.1,3.7,1.5,0.4]|       0.0|[1.45413875579833...|[0.70844513177871...|       0.0|\n",
      "|[5.4,3.0,4.5,1.5]|       1.0|[-0.1398261785507...|[0.15833075344562...|       1.0|\n",
      "|[5.4,3.9,1.3,0.4]|       0.0|[1.45413875579833...|[0.70844513177871...|       0.0|\n",
      "|[5.5,2.4,3.8,1.1]|       1.0|[-0.1398261785507...|[0.15833075344562...|       1.0|\n",
      "|[5.5,2.6,4.4,1.2]|       1.0|[-0.1398261785507...|[0.15833075344562...|       1.0|\n",
      "|[5.6,3.0,4.1,1.3]|       1.0|[-0.1398261785507...|[0.15833075344562...|       1.0|\n",
      "|[5.6,3.0,4.5,1.5]|       1.0|[-0.1398261785507...|[0.15833075344562...|       1.0|\n",
      "|[5.7,3.8,1.7,0.3]|       0.0|[1.45413875579833...|[0.70844513177871...|       0.0|\n",
      "|[5.8,2.7,3.9,1.2]|       1.0|[-0.1398261785507...|[0.15833075344562...|       1.0|\n",
      "|[5.8,2.7,4.1,1.0]|       1.0|[-0.1398261785507...|[0.15833075344562...|       1.0|\n",
      "|[5.8,4.0,1.2,0.2]|       0.0|[1.45413875579833...|[0.70844513177871...|       0.0|\n",
      "|[5.9,3.0,5.1,1.8]|       2.0|[-0.1398261785507...|[0.14527253806591...|       2.0|\n",
      "|[6.0,2.2,5.0,1.5]|       2.0|[-0.1398261785507...|[0.12797671556472...|       1.0|\n",
      "|[6.1,3.0,4.6,1.4]|       1.0|[-0.1398261785507...|[0.15833075344562...|       1.0|\n",
      "|[6.3,2.3,4.4,1.3]|       1.0|[-0.1398261785507...|[0.15833075344562...|       1.0|\n",
      "|[6.5,3.0,5.2,2.0]|       2.0|[-0.1398261785507...|[0.14527253806591...|       2.0|\n",
      "|[6.6,3.0,4.4,1.4]|       1.0|[-0.1398261785507...|[0.15833075344562...|       1.0|\n",
      "|[6.7,3.1,5.6,2.4]|       2.0|[-0.1398261785507...|[0.14527253806591...|       2.0|\n",
      "|[6.8,2.8,4.8,1.4]|       1.0|[-0.1398261785507...|[0.13815540075302...|       1.0|\n",
      "|[7.6,3.0,6.6,2.1]|       2.0|[-0.1398261785507...|[0.14527253806591...|       2.0|\n",
      "|[7.7,3.8,6.7,2.2]|       2.0|[-0.1398261785507...|[0.14527253806591...|       2.0|\n",
      "|[7.9,3.8,6.4,2.0]|       2.0|[-0.1398261785507...|[0.14527253806591...|       2.0|\n",
      "+-----------------+----------+--------------------+--------------------+----------+\n",
      "\n"
     ]
    }
   ],
   "source": [
    "results.show(80)"
   ]
  },
  {
   "cell_type": "markdown",
   "metadata": {},
   "source": [
    "# Evaluate"
   ]
  },
  {
   "cell_type": "code",
   "execution_count": 36,
   "metadata": {},
   "outputs": [],
   "source": [
    "from pyspark.ml.evaluation import MulticlassClassificationEvaluator\n",
    "evaluator = MulticlassClassificationEvaluator(predictionCol=\"prediction\",\n",
    "                                              labelCol=\"classIndex\",\n",
    "                                              metricName=\"weightedPrecision\")\n",
    "\n"
   ]
  },
  {
   "cell_type": "markdown",
   "metadata": {},
   "source": [
    "perfect accuracy?"
   ]
  },
  {
   "cell_type": "code",
   "execution_count": 37,
   "metadata": {},
   "outputs": [
    {
     "name": "stdout",
     "output_type": "stream",
     "text": [
      "Test Error = 0.0316092\n"
     ]
    }
   ],
   "source": [
    "# compute the classification error on test data.\n",
    "accuracy = evaluator.evaluate(results)\n",
    "print(\"Test Error = %g\" % (1.0 - accuracy))"
   ]
  },
  {
   "cell_type": "code",
   "execution_count": 38,
   "metadata": {},
   "outputs": [],
   "source": [
    "spark.stop()"
   ]
  }
 ],
 "metadata": {
  "kernelspec": {
   "display_name": "Python 3",
   "language": "python",
   "name": "python3"
  },
  "language_info": {
   "codemirror_mode": {
    "name": "ipython",
    "version": 3
   },
   "file_extension": ".py",
   "mimetype": "text/x-python",
   "name": "python",
   "nbconvert_exporter": "python",
   "pygments_lexer": "ipython3",
   "version": "3.7.3"
  }
 },
 "nbformat": 4,
 "nbformat_minor": 4
}
