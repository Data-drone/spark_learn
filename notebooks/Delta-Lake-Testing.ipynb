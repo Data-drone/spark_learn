{
 "cells": [
  {
   "cell_type": "markdown",
   "id": "alternate-difference",
   "metadata": {},
   "source": [
    "# Delta Lake Testing\n",
    "\n",
    "Testing out the abilities of deltalake"
   ]
  },
  {
   "cell_type": "code",
   "execution_count": 1,
   "id": "resident-fighter",
   "metadata": {},
   "outputs": [],
   "source": [
    "import os"
   ]
  },
  {
   "cell_type": "code",
   "execution_count": 2,
   "id": "owned-skill",
   "metadata": {},
   "outputs": [],
   "source": [
    "packages = \"io.delta:delta-core_2.12:1.0.0,org.apache.hadoop:hadoop-aws:3.2.0\"\n",
    "os.environ[\"PYSPARK_SUBMIT_ARGS\"] = \"--packages {0} pyspark-shell\".format(packages)"
   ]
  },
  {
   "cell_type": "code",
   "execution_count": 3,
   "id": "tutorial-ownership",
   "metadata": {},
   "outputs": [],
   "source": [
    "from pyspark.sql import SparkSession"
   ]
  },
  {
   "cell_type": "code",
   "execution_count": 4,
   "id": "danish-desert",
   "metadata": {},
   "outputs": [],
   "source": [
    "# .config(\"spark.jars.packages\", \"io.delta:delta-core_2.12:1.0.0\") \\\n",
    "spark = SparkSession \\\n",
    "    .builder \\\n",
    "    .appName(\"Load Data\") \\\n",
    "    .config(\"spark.master\", \"spark://spark-master:7077\") \\\n",
    "    .config(\"spark.num.executors\", \"2\") \\\n",
    "    .config(\"spark.hadoop.fs.s3a.aws.credentials.provider\", \"org.apache.hadoop.fs.s3a.AnonymousAWSCredentialsProvider\") \\\n",
    "    .config(\"spark.sql.extensions\", \"io.delta.sql.DeltaSparkSessionExtension\") \\\n",
    "    .config(\"spark.sql.catalog.spark_catalog\", \"org.apache.spark.sql.delta.catalog.DeltaCatalog\") \\\n",
    "    .enableHiveSupport() \\\n",
    "    .getOrCreate()"
   ]
  },
  {
   "cell_type": "markdown",
   "id": "regulated-certification",
   "metadata": {},
   "source": [
    "## Loading in some data"
   ]
  },
  {
   "cell_type": "code",
   "execution_count": 5,
   "id": "hazardous-andorra",
   "metadata": {},
   "outputs": [],
   "source": [
    "green_trip_data_2015_test = \"s3a://nyc-tlc/trip data/green_tripdata_2015-01.csv\"\n",
    "green_trip_2015_test = spark.read.option(\"header\", True).csv(green_trip_data_2015_test)"
   ]
  },
  {
   "cell_type": "code",
   "execution_count": 13,
   "id": "introductory-certificate",
   "metadata": {},
   "outputs": [],
   "source": [
    "green_trip_2015_test = green_trip_2015_test.withColumnRenamed(\"Trip_type \", \"trip_type\")"
   ]
  },
  {
   "cell_type": "code",
   "execution_count": 14,
   "id": "adopted-joyce",
   "metadata": {},
   "outputs": [
    {
     "name": "stdout",
     "output_type": "stream",
     "text": [
      "root\n",
      " |-- VendorID: string (nullable = true)\n",
      " |-- lpep_pickup_datetime: string (nullable = true)\n",
      " |-- Lpep_dropoff_datetime: string (nullable = true)\n",
      " |-- Store_and_fwd_flag: string (nullable = true)\n",
      " |-- RateCodeID: string (nullable = true)\n",
      " |-- Pickup_longitude: string (nullable = true)\n",
      " |-- Pickup_latitude: string (nullable = true)\n",
      " |-- Dropoff_longitude: string (nullable = true)\n",
      " |-- Dropoff_latitude: string (nullable = true)\n",
      " |-- Passenger_count: string (nullable = true)\n",
      " |-- Trip_distance: string (nullable = true)\n",
      " |-- Fare_amount: string (nullable = true)\n",
      " |-- Extra: string (nullable = true)\n",
      " |-- MTA_tax: string (nullable = true)\n",
      " |-- Tip_amount: string (nullable = true)\n",
      " |-- Tolls_amount: string (nullable = true)\n",
      " |-- Ehail_fee: string (nullable = true)\n",
      " |-- improvement_surcharge: string (nullable = true)\n",
      " |-- Total_amount: string (nullable = true)\n",
      " |-- Payment_type: string (nullable = true)\n",
      " |-- trip_type: string (nullable = true)\n",
      "\n"
     ]
    }
   ],
   "source": [
    "green_trip_2015_test.printSchema()"
   ]
  },
  {
   "cell_type": "code",
   "execution_count": 15,
   "id": "celtic-bangladesh",
   "metadata": {},
   "outputs": [],
   "source": [
    "green_trip_2015_test.write.format(\"delta\").save(\"/opt/spark-data/temp/taxi_test\")"
   ]
  },
  {
   "cell_type": "markdown",
   "id": "tribal-search",
   "metadata": {},
   "source": [
    "# Try a bigger load with schema evolution"
   ]
  },
  {
   "cell_type": "code",
   "execution_count": 23,
   "id": "approved-papua",
   "metadata": {},
   "outputs": [],
   "source": [
    "table_path = \"/opt/spark-data/temp/green_2015\""
   ]
  },
  {
   "cell_type": "code",
   "execution_count": 16,
   "id": "hindu-thought",
   "metadata": {},
   "outputs": [],
   "source": [
    "green_trip_data_2015_h1 = \"s3a://nyc-tlc/trip data/green_tripdata_2015-0[1-6].csv\"\n",
    "green_trip_2015_h1 = spark.read.option(\"header\", True).csv(green_trip_data_2015_h1)"
   ]
  },
  {
   "cell_type": "code",
   "execution_count": 17,
   "id": "ordinary-blocking",
   "metadata": {},
   "outputs": [
    {
     "name": "stdout",
     "output_type": "stream",
     "text": [
      "root\n",
      " |-- VendorID: string (nullable = true)\n",
      " |-- lpep_pickup_datetime: string (nullable = true)\n",
      " |-- Lpep_dropoff_datetime: string (nullable = true)\n",
      " |-- Store_and_fwd_flag: string (nullable = true)\n",
      " |-- RateCodeID: string (nullable = true)\n",
      " |-- Pickup_longitude: string (nullable = true)\n",
      " |-- Pickup_latitude: string (nullable = true)\n",
      " |-- Dropoff_longitude: string (nullable = true)\n",
      " |-- Dropoff_latitude: string (nullable = true)\n",
      " |-- Passenger_count: string (nullable = true)\n",
      " |-- Trip_distance: string (nullable = true)\n",
      " |-- Fare_amount: string (nullable = true)\n",
      " |-- Extra: string (nullable = true)\n",
      " |-- MTA_tax: string (nullable = true)\n",
      " |-- Tip_amount: string (nullable = true)\n",
      " |-- Tolls_amount: string (nullable = true)\n",
      " |-- Ehail_fee: string (nullable = true)\n",
      " |-- improvement_surcharge: string (nullable = true)\n",
      " |-- Total_amount: string (nullable = true)\n",
      " |-- Payment_type: string (nullable = true)\n",
      " |-- Trip_type : string (nullable = true)\n",
      "\n"
     ]
    }
   ],
   "source": [
    "green_trip_2015_h1.printSchema()"
   ]
  },
  {
   "cell_type": "code",
   "execution_count": 19,
   "id": "introductory-easter",
   "metadata": {},
   "outputs": [],
   "source": [
    "green_trip_2015_h1 = green_trip_2015_h1.withColumnRenamed(\"Trip_type \", \"trip_type\")"
   ]
  },
  {
   "cell_type": "code",
   "execution_count": 20,
   "id": "composed-thesaurus",
   "metadata": {},
   "outputs": [],
   "source": [
    "green_trip_2015_h1.write.format(\"delta\").save(table_path)"
   ]
  },
  {
   "cell_type": "markdown",
   "id": "running-client",
   "metadata": {},
   "source": [
    "## With Schema Evolution"
   ]
  },
  {
   "cell_type": "code",
   "execution_count": 21,
   "id": "narrative-speech",
   "metadata": {},
   "outputs": [],
   "source": [
    "green_trip_data_2015_jul_sept = \"s3a://nyc-tlc/trip data/green_tripdata_2015-0[7-9].csv\"\n",
    "green_trip_2015_jul = spark.read.option(\"header\", True).csv(green_trip_data_2015_jul_sept)"
   ]
  },
  {
   "cell_type": "code",
   "execution_count": 22,
   "id": "naughty-breeding",
   "metadata": {},
   "outputs": [],
   "source": [
    "green_trip_2015_jul = green_trip_2015_jul.withColumnRenamed(\"Trip_type \", \"trip_type\")"
   ]
  },
  {
   "cell_type": "code",
   "execution_count": null,
   "id": "ordered-amplifier",
   "metadata": {},
   "outputs": [],
   "source": [
    "green_trip_2015_jul.write.format(\"delta\").mode(\"append\").save(table_path)"
   ]
  },
  {
   "cell_type": "code",
   "execution_count": null,
   "id": "emotional-naples",
   "metadata": {},
   "outputs": [],
   "source": [
    "spark.stop()"
   ]
  }
 ],
 "metadata": {
  "kernelspec": {
   "display_name": "Python [conda env:spark]",
   "language": "python",
   "name": "conda-env-spark-py"
  },
  "language_info": {
   "codemirror_mode": {
    "name": "ipython",
    "version": 3
   },
   "file_extension": ".py",
   "mimetype": "text/x-python",
   "name": "python",
   "nbconvert_exporter": "python",
   "pygments_lexer": "ipython3",
   "version": "3.8.10"
  }
 },
 "nbformat": 4,
 "nbformat_minor": 5
}
