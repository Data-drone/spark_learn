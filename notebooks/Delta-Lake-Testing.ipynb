{
 "cells": [
  {
   "cell_type": "markdown",
   "id": "engaged-superior",
   "metadata": {},
   "source": [
    "# Delta Lake Testing\n",
    "\n",
    "Testing out the abilities of deltalake"
   ]
  },
  {
   "cell_type": "code",
   "execution_count": 1,
   "id": "objective-nylon",
   "metadata": {},
   "outputs": [],
   "source": [
    "import os"
   ]
  },
  {
   "cell_type": "code",
   "execution_count": 2,
   "id": "institutional-bikini",
   "metadata": {},
   "outputs": [],
   "source": [
    "packages = \"io.delta:delta-core_2.12:1.0.0,org.apache.hadoop:hadoop-aws:3.2.0\"\n",
    "os.environ[\"PYSPARK_SUBMIT_ARGS\"] = \"--packages {0} pyspark-shell\".format(packages)"
   ]
  },
  {
   "cell_type": "code",
   "execution_count": 3,
   "id": "northern-pearl",
   "metadata": {},
   "outputs": [],
   "source": [
    "from pyspark.sql import SparkSession"
   ]
  },
  {
   "cell_type": "code",
   "execution_count": 4,
   "id": "unknown-report",
   "metadata": {},
   "outputs": [],
   "source": [
    "# .config(\"spark.jars.packages\", \"io.delta:delta-core_2.12:1.0.0\") \\\n",
    "spark = SparkSession \\\n",
    "    .builder \\\n",
    "    .appName(\"Load Data\") \\\n",
    "    .config(\"spark.master\", \"spark://spark-master:7077\") \\\n",
    "    .config(\"spark.num.executors\", \"2\") \\\n",
    "    .config(\"spark.hadoop.fs.s3a.aws.credentials.provider\", \"org.apache.hadoop.fs.s3a.AnonymousAWSCredentialsProvider\") \\\n",
    "    .config(\"spark.sql.extensions\", \"io.delta.sql.DeltaSparkSessionExtension\") \\\n",
    "    .config(\"spark.sql.catalog.spark_catalog\", \"org.apache.spark.sql.delta.catalog.DeltaCatalog\") \\\n",
    "    .enableHiveSupport() \\\n",
    "    .getOrCreate()"
   ]
  },
  {
   "cell_type": "markdown",
   "id": "humanitarian-diana",
   "metadata": {},
   "source": [
    "## Loading in some data"
   ]
  },
  {
   "cell_type": "code",
   "execution_count": 5,
   "id": "structural-backup",
   "metadata": {},
   "outputs": [],
   "source": [
    "green_trip_data_2015_test = \"s3a://nyc-tlc/trip data/green_tripdata_2015-01.csv\"\n",
    "green_trip_2015_test = spark.read.option(\"header\", True).csv(green_trip_data_2015_test)"
   ]
  },
  {
   "cell_type": "code",
   "execution_count": 13,
   "id": "precise-causing",
   "metadata": {},
   "outputs": [],
   "source": [
    "green_trip_2015_test = green_trip_2015_test.withColumnRenamed(\"Trip_type \", \"trip_type\")"
   ]
  },
  {
   "cell_type": "code",
   "execution_count": 14,
   "id": "confidential-sodium",
   "metadata": {},
   "outputs": [
    {
     "name": "stdout",
     "output_type": "stream",
     "text": [
      "root\n",
      " |-- VendorID: string (nullable = true)\n",
      " |-- lpep_pickup_datetime: string (nullable = true)\n",
      " |-- Lpep_dropoff_datetime: string (nullable = true)\n",
      " |-- Store_and_fwd_flag: string (nullable = true)\n",
      " |-- RateCodeID: string (nullable = true)\n",
      " |-- Pickup_longitude: string (nullable = true)\n",
      " |-- Pickup_latitude: string (nullable = true)\n",
      " |-- Dropoff_longitude: string (nullable = true)\n",
      " |-- Dropoff_latitude: string (nullable = true)\n",
      " |-- Passenger_count: string (nullable = true)\n",
      " |-- Trip_distance: string (nullable = true)\n",
      " |-- Fare_amount: string (nullable = true)\n",
      " |-- Extra: string (nullable = true)\n",
      " |-- MTA_tax: string (nullable = true)\n",
      " |-- Tip_amount: string (nullable = true)\n",
      " |-- Tolls_amount: string (nullable = true)\n",
      " |-- Ehail_fee: string (nullable = true)\n",
      " |-- improvement_surcharge: string (nullable = true)\n",
      " |-- Total_amount: string (nullable = true)\n",
      " |-- Payment_type: string (nullable = true)\n",
      " |-- trip_type: string (nullable = true)\n",
      "\n"
     ]
    }
   ],
   "source": [
    "green_trip_2015_test.printSchema()"
   ]
  },
  {
   "cell_type": "code",
   "execution_count": 15,
   "id": "dangerous-restoration",
   "metadata": {},
   "outputs": [],
   "source": [
    "green_trip_2015_test.write.format(\"delta\").save(\"/opt/spark-data/temp/taxi_test\")"
   ]
  },
  {
   "cell_type": "markdown",
   "id": "banned-employment",
   "metadata": {},
   "source": [
    "# Try a bigger load with schema evolution"
   ]
  },
  {
   "cell_type": "code",
   "execution_count": 23,
   "id": "realistic-result",
   "metadata": {},
   "outputs": [],
   "source": [
    "table_path = \"/opt/spark-data/temp/green_2015\""
   ]
  },
  {
   "cell_type": "code",
   "execution_count": 12,
   "id": "average-florida",
   "metadata": {},
   "outputs": [],
   "source": [
    "green_trip_data_2015_h1 = \"s3a://nyc-tlc/trip data/green_tripdata_2015-0[1-6].csv\"\n",
    "green_trip_2015_h1 = spark.read.option(\"header\", True).csv(green_trip_data_2015_h1)"
   ]
  },
  {
   "cell_type": "code",
   "execution_count": 13,
   "id": "latin-stamp",
   "metadata": {},
   "outputs": [
    {
     "name": "stdout",
     "output_type": "stream",
     "text": [
      "root\n",
      " |-- VendorID: string (nullable = true)\n",
      " |-- lpep_pickup_datetime: string (nullable = true)\n",
      " |-- Lpep_dropoff_datetime: string (nullable = true)\n",
      " |-- Store_and_fwd_flag: string (nullable = true)\n",
      " |-- RateCodeID: string (nullable = true)\n",
      " |-- Pickup_longitude: string (nullable = true)\n",
      " |-- Pickup_latitude: string (nullable = true)\n",
      " |-- Dropoff_longitude: string (nullable = true)\n",
      " |-- Dropoff_latitude: string (nullable = true)\n",
      " |-- Passenger_count: string (nullable = true)\n",
      " |-- Trip_distance: string (nullable = true)\n",
      " |-- Fare_amount: string (nullable = true)\n",
      " |-- Extra: string (nullable = true)\n",
      " |-- MTA_tax: string (nullable = true)\n",
      " |-- Tip_amount: string (nullable = true)\n",
      " |-- Tolls_amount: string (nullable = true)\n",
      " |-- Ehail_fee: string (nullable = true)\n",
      " |-- improvement_surcharge: string (nullable = true)\n",
      " |-- Total_amount: string (nullable = true)\n",
      " |-- Payment_type: string (nullable = true)\n",
      " |-- Trip_type : string (nullable = true)\n",
      "\n"
     ]
    }
   ],
   "source": [
    "green_trip_2015_h1.printSchema()"
   ]
  },
  {
   "cell_type": "code",
   "execution_count": 14,
   "id": "vocal-burner",
   "metadata": {},
   "outputs": [],
   "source": [
    "green_trip_2015_h1 = green_trip_2015_h1.withColumnRenamed(\"Trip_type \", \"trip_type\")"
   ]
  },
  {
   "cell_type": "code",
   "execution_count": 20,
   "id": "variable-industry",
   "metadata": {},
   "outputs": [],
   "source": [
    "green_trip_2015_h1.write.format(\"delta\").save(table_path)"
   ]
  },
  {
   "cell_type": "markdown",
   "id": "established-stuff",
   "metadata": {},
   "source": [
    "## With Schema Evolution"
   ]
  },
  {
   "cell_type": "code",
   "execution_count": 21,
   "id": "sacred-andrews",
   "metadata": {},
   "outputs": [],
   "source": [
    "green_trip_data_2015_jul_sept = \"s3a://nyc-tlc/trip data/green_tripdata_2015-0[7-9].csv\"\n",
    "green_trip_2015_jul = spark.read.option(\"header\", True).csv(green_trip_data_2015_jul_sept)"
   ]
  },
  {
   "cell_type": "code",
   "execution_count": 22,
   "id": "greenhouse-wisdom",
   "metadata": {},
   "outputs": [],
   "source": [
    "green_trip_2015_jul = green_trip_2015_jul.withColumnRenamed(\"Trip_type \", \"trip_type\")"
   ]
  },
  {
   "cell_type": "code",
   "execution_count": 24,
   "id": "furnished-intro",
   "metadata": {},
   "outputs": [],
   "source": [
    "green_trip_2015_jul.write.format(\"delta\").mode(\"append\").save(table_path)"
   ]
  },
  {
   "cell_type": "code",
   "execution_count": 25,
   "id": "vertical-directive",
   "metadata": {},
   "outputs": [
    {
     "name": "stdout",
     "output_type": "stream",
     "text": [
      "root\n",
      " |-- VendorID: string (nullable = true)\n",
      " |-- lpep_pickup_datetime: string (nullable = true)\n",
      " |-- Lpep_dropoff_datetime: string (nullable = true)\n",
      " |-- Store_and_fwd_flag: string (nullable = true)\n",
      " |-- RateCodeID: string (nullable = true)\n",
      " |-- Pickup_longitude: string (nullable = true)\n",
      " |-- Pickup_latitude: string (nullable = true)\n",
      " |-- Dropoff_longitude: string (nullable = true)\n",
      " |-- Dropoff_latitude: string (nullable = true)\n",
      " |-- Passenger_count: string (nullable = true)\n",
      " |-- Trip_distance: string (nullable = true)\n",
      " |-- Fare_amount: string (nullable = true)\n",
      " |-- Extra: string (nullable = true)\n",
      " |-- MTA_tax: string (nullable = true)\n",
      " |-- Tip_amount: string (nullable = true)\n",
      " |-- Tolls_amount: string (nullable = true)\n",
      " |-- Ehail_fee: string (nullable = true)\n",
      " |-- improvement_surcharge: string (nullable = true)\n",
      " |-- Total_amount: string (nullable = true)\n",
      " |-- Payment_type: string (nullable = true)\n",
      " |-- trip_type: string (nullable = true)\n",
      "\n"
     ]
    }
   ],
   "source": [
    "green_trip_2015_jul.printSchema()"
   ]
  },
  {
   "cell_type": "code",
   "execution_count": 7,
   "id": "minus-convergence",
   "metadata": {},
   "outputs": [],
   "source": [
    "green_trip_data_pre2015 = \"s3a://nyc-tlc/trip data/green_tripdata_201[3-4]*.csv\"\n",
    "green_trip_pre2015 = spark.read.option(\"header\", True).csv(green_trip_data_pre2015)"
   ]
  },
  {
   "cell_type": "code",
   "execution_count": 8,
   "id": "pharmaceutical-sport",
   "metadata": {},
   "outputs": [
    {
     "name": "stdout",
     "output_type": "stream",
     "text": [
      "root\n",
      " |-- VendorID: string (nullable = true)\n",
      " |-- lpep_pickup_datetime: string (nullable = true)\n",
      " |-- Lpep_dropoff_datetime: string (nullable = true)\n",
      " |-- Store_and_fwd_flag: string (nullable = true)\n",
      " |-- RateCodeID: string (nullable = true)\n",
      " |-- Pickup_longitude: string (nullable = true)\n",
      " |-- Pickup_latitude: string (nullable = true)\n",
      " |-- Dropoff_longitude: string (nullable = true)\n",
      " |-- Dropoff_latitude: string (nullable = true)\n",
      " |-- Passenger_count: string (nullable = true)\n",
      " |-- Trip_distance: string (nullable = true)\n",
      " |-- Fare_amount: string (nullable = true)\n",
      " |-- Extra: string (nullable = true)\n",
      " |-- MTA_tax: string (nullable = true)\n",
      " |-- Tip_amount: string (nullable = true)\n",
      " |-- Tolls_amount: string (nullable = true)\n",
      " |-- Ehail_fee: string (nullable = true)\n",
      " |-- Total_amount: string (nullable = true)\n",
      " |-- Payment_type: string (nullable = true)\n",
      " |-- Trip_type : string (nullable = true)\n",
      "\n"
     ]
    }
   ],
   "source": [
    "green_trip_pre2015.printSchema()"
   ]
  },
  {
   "cell_type": "code",
   "execution_count": 10,
   "id": "diverse-damages",
   "metadata": {},
   "outputs": [],
   "source": [
    "green_trip_pre2015 = green_trip_pre2015.withColumnRenamed(\"Trip_type \", \"trip_type\")"
   ]
  },
  {
   "cell_type": "code",
   "execution_count": 31,
   "id": "parental-danish",
   "metadata": {},
   "outputs": [],
   "source": [
    "green_trip_pre2015.write.format(\"delta\").mode(\"append\").save(table_path)"
   ]
  },
  {
   "cell_type": "markdown",
   "id": "interstate-professor",
   "metadata": {},
   "source": [
    "So append with missing column is fine"
   ]
  },
  {
   "cell_type": "markdown",
   "id": "concrete-longitude",
   "metadata": {},
   "source": [
    "redo so that we add new column "
   ]
  },
  {
   "cell_type": "code",
   "execution_count": 5,
   "id": "sophisticated-government",
   "metadata": {},
   "outputs": [],
   "source": [
    "path_2 = \"/opt/spark-data/temp/green_2015_test\""
   ]
  },
  {
   "cell_type": "code",
   "execution_count": 11,
   "id": "acute-december",
   "metadata": {},
   "outputs": [],
   "source": [
    "green_trip_pre2015.write.format(\"delta\").mode(\"append\").save(path_2)"
   ]
  },
  {
   "cell_type": "code",
   "execution_count": 15,
   "id": "future-viking",
   "metadata": {},
   "outputs": [
    {
     "ename": "AnalysisException",
     "evalue": "A schema mismatch detected when writing to the Delta table (Table ID: 1c46d9f3-4b5b-4034-80dc-46f43d7264de).\nTo enable schema migration using DataFrameWriter or DataStreamWriter, please set:\n'.option(\"mergeSchema\", \"true\")'.\nFor other operations, set the session configuration\nspark.databricks.delta.schema.autoMerge.enabled to \"true\". See the documentation\nspecific to the operation for details.\n\nTable schema:\nroot\n-- VendorID: string (nullable = true)\n-- lpep_pickup_datetime: string (nullable = true)\n-- Lpep_dropoff_datetime: string (nullable = true)\n-- Store_and_fwd_flag: string (nullable = true)\n-- RateCodeID: string (nullable = true)\n-- Pickup_longitude: string (nullable = true)\n-- Pickup_latitude: string (nullable = true)\n-- Dropoff_longitude: string (nullable = true)\n-- Dropoff_latitude: string (nullable = true)\n-- Passenger_count: string (nullable = true)\n-- Trip_distance: string (nullable = true)\n-- Fare_amount: string (nullable = true)\n-- Extra: string (nullable = true)\n-- MTA_tax: string (nullable = true)\n-- Tip_amount: string (nullable = true)\n-- Tolls_amount: string (nullable = true)\n-- Ehail_fee: string (nullable = true)\n-- Total_amount: string (nullable = true)\n-- Payment_type: string (nullable = true)\n-- trip_type: string (nullable = true)\n\n\nData schema:\nroot\n-- VendorID: string (nullable = true)\n-- lpep_pickup_datetime: string (nullable = true)\n-- Lpep_dropoff_datetime: string (nullable = true)\n-- Store_and_fwd_flag: string (nullable = true)\n-- RateCodeID: string (nullable = true)\n-- Pickup_longitude: string (nullable = true)\n-- Pickup_latitude: string (nullable = true)\n-- Dropoff_longitude: string (nullable = true)\n-- Dropoff_latitude: string (nullable = true)\n-- Passenger_count: string (nullable = true)\n-- Trip_distance: string (nullable = true)\n-- Fare_amount: string (nullable = true)\n-- Extra: string (nullable = true)\n-- MTA_tax: string (nullable = true)\n-- Tip_amount: string (nullable = true)\n-- Tolls_amount: string (nullable = true)\n-- Ehail_fee: string (nullable = true)\n-- improvement_surcharge: string (nullable = true)\n-- Total_amount: string (nullable = true)\n-- Payment_type: string (nullable = true)\n-- trip_type: string (nullable = true)\n\n         ",
     "output_type": "error",
     "traceback": [
      "\u001b[0;31m---------------------------------------------------------------------------\u001b[0m",
      "\u001b[0;31mAnalysisException\u001b[0m                         Traceback (most recent call last)",
      "\u001b[0;32m<ipython-input-15-7cd41b58d6d9>\u001b[0m in \u001b[0;36m<module>\u001b[0;34m\u001b[0m\n\u001b[0;32m----> 1\u001b[0;31m \u001b[0mgreen_trip_2015_h1\u001b[0m\u001b[0;34m.\u001b[0m\u001b[0mwrite\u001b[0m\u001b[0;34m.\u001b[0m\u001b[0mformat\u001b[0m\u001b[0;34m(\u001b[0m\u001b[0;34m\"delta\"\u001b[0m\u001b[0;34m)\u001b[0m\u001b[0;34m.\u001b[0m\u001b[0mmode\u001b[0m\u001b[0;34m(\u001b[0m\u001b[0;34m\"append\"\u001b[0m\u001b[0;34m)\u001b[0m\u001b[0;34m.\u001b[0m\u001b[0msave\u001b[0m\u001b[0;34m(\u001b[0m\u001b[0mpath_2\u001b[0m\u001b[0;34m)\u001b[0m\u001b[0;34m\u001b[0m\u001b[0;34m\u001b[0m\u001b[0m\n\u001b[0m",
      "\u001b[0;32m/opt/conda/envs/spark/lib/python3.8/site-packages/pyspark/sql/readwriter.py\u001b[0m in \u001b[0;36msave\u001b[0;34m(self, path, format, mode, partitionBy, **options)\u001b[0m\n\u001b[1;32m   1107\u001b[0m             \u001b[0mself\u001b[0m\u001b[0;34m.\u001b[0m\u001b[0m_jwrite\u001b[0m\u001b[0;34m.\u001b[0m\u001b[0msave\u001b[0m\u001b[0;34m(\u001b[0m\u001b[0;34m)\u001b[0m\u001b[0;34m\u001b[0m\u001b[0;34m\u001b[0m\u001b[0m\n\u001b[1;32m   1108\u001b[0m         \u001b[0;32melse\u001b[0m\u001b[0;34m:\u001b[0m\u001b[0;34m\u001b[0m\u001b[0;34m\u001b[0m\u001b[0m\n\u001b[0;32m-> 1109\u001b[0;31m             \u001b[0mself\u001b[0m\u001b[0;34m.\u001b[0m\u001b[0m_jwrite\u001b[0m\u001b[0;34m.\u001b[0m\u001b[0msave\u001b[0m\u001b[0;34m(\u001b[0m\u001b[0mpath\u001b[0m\u001b[0;34m)\u001b[0m\u001b[0;34m\u001b[0m\u001b[0;34m\u001b[0m\u001b[0m\n\u001b[0m\u001b[1;32m   1110\u001b[0m \u001b[0;34m\u001b[0m\u001b[0m\n\u001b[1;32m   1111\u001b[0m     \u001b[0;34m@\u001b[0m\u001b[0msince\u001b[0m\u001b[0;34m(\u001b[0m\u001b[0;36m1.4\u001b[0m\u001b[0;34m)\u001b[0m\u001b[0;34m\u001b[0m\u001b[0;34m\u001b[0m\u001b[0m\n",
      "\u001b[0;32m/opt/conda/envs/spark/lib/python3.8/site-packages/py4j/java_gateway.py\u001b[0m in \u001b[0;36m__call__\u001b[0;34m(self, *args)\u001b[0m\n\u001b[1;32m   1302\u001b[0m \u001b[0;34m\u001b[0m\u001b[0m\n\u001b[1;32m   1303\u001b[0m         \u001b[0manswer\u001b[0m \u001b[0;34m=\u001b[0m \u001b[0mself\u001b[0m\u001b[0;34m.\u001b[0m\u001b[0mgateway_client\u001b[0m\u001b[0;34m.\u001b[0m\u001b[0msend_command\u001b[0m\u001b[0;34m(\u001b[0m\u001b[0mcommand\u001b[0m\u001b[0;34m)\u001b[0m\u001b[0;34m\u001b[0m\u001b[0;34m\u001b[0m\u001b[0m\n\u001b[0;32m-> 1304\u001b[0;31m         return_value = get_return_value(\n\u001b[0m\u001b[1;32m   1305\u001b[0m             answer, self.gateway_client, self.target_id, self.name)\n\u001b[1;32m   1306\u001b[0m \u001b[0;34m\u001b[0m\u001b[0m\n",
      "\u001b[0;32m/opt/conda/envs/spark/lib/python3.8/site-packages/pyspark/sql/utils.py\u001b[0m in \u001b[0;36mdeco\u001b[0;34m(*a, **kw)\u001b[0m\n\u001b[1;32m    115\u001b[0m                 \u001b[0;31m# Hide where the exception came from that shows a non-Pythonic\u001b[0m\u001b[0;34m\u001b[0m\u001b[0;34m\u001b[0m\u001b[0;34m\u001b[0m\u001b[0m\n\u001b[1;32m    116\u001b[0m                 \u001b[0;31m# JVM exception message.\u001b[0m\u001b[0;34m\u001b[0m\u001b[0;34m\u001b[0m\u001b[0;34m\u001b[0m\u001b[0m\n\u001b[0;32m--> 117\u001b[0;31m                 \u001b[0;32mraise\u001b[0m \u001b[0mconverted\u001b[0m \u001b[0;32mfrom\u001b[0m \u001b[0;32mNone\u001b[0m\u001b[0;34m\u001b[0m\u001b[0;34m\u001b[0m\u001b[0m\n\u001b[0m\u001b[1;32m    118\u001b[0m             \u001b[0;32melse\u001b[0m\u001b[0;34m:\u001b[0m\u001b[0;34m\u001b[0m\u001b[0;34m\u001b[0m\u001b[0m\n\u001b[1;32m    119\u001b[0m                 \u001b[0;32mraise\u001b[0m\u001b[0;34m\u001b[0m\u001b[0;34m\u001b[0m\u001b[0m\n",
      "\u001b[0;31mAnalysisException\u001b[0m: A schema mismatch detected when writing to the Delta table (Table ID: 1c46d9f3-4b5b-4034-80dc-46f43d7264de).\nTo enable schema migration using DataFrameWriter or DataStreamWriter, please set:\n'.option(\"mergeSchema\", \"true\")'.\nFor other operations, set the session configuration\nspark.databricks.delta.schema.autoMerge.enabled to \"true\". See the documentation\nspecific to the operation for details.\n\nTable schema:\nroot\n-- VendorID: string (nullable = true)\n-- lpep_pickup_datetime: string (nullable = true)\n-- Lpep_dropoff_datetime: string (nullable = true)\n-- Store_and_fwd_flag: string (nullable = true)\n-- RateCodeID: string (nullable = true)\n-- Pickup_longitude: string (nullable = true)\n-- Pickup_latitude: string (nullable = true)\n-- Dropoff_longitude: string (nullable = true)\n-- Dropoff_latitude: string (nullable = true)\n-- Passenger_count: string (nullable = true)\n-- Trip_distance: string (nullable = true)\n-- Fare_amount: string (nullable = true)\n-- Extra: string (nullable = true)\n-- MTA_tax: string (nullable = true)\n-- Tip_amount: string (nullable = true)\n-- Tolls_amount: string (nullable = true)\n-- Ehail_fee: string (nullable = true)\n-- Total_amount: string (nullable = true)\n-- Payment_type: string (nullable = true)\n-- trip_type: string (nullable = true)\n\n\nData schema:\nroot\n-- VendorID: string (nullable = true)\n-- lpep_pickup_datetime: string (nullable = true)\n-- Lpep_dropoff_datetime: string (nullable = true)\n-- Store_and_fwd_flag: string (nullable = true)\n-- RateCodeID: string (nullable = true)\n-- Pickup_longitude: string (nullable = true)\n-- Pickup_latitude: string (nullable = true)\n-- Dropoff_longitude: string (nullable = true)\n-- Dropoff_latitude: string (nullable = true)\n-- Passenger_count: string (nullable = true)\n-- Trip_distance: string (nullable = true)\n-- Fare_amount: string (nullable = true)\n-- Extra: string (nullable = true)\n-- MTA_tax: string (nullable = true)\n-- Tip_amount: string (nullable = true)\n-- Tolls_amount: string (nullable = true)\n-- Ehail_fee: string (nullable = true)\n-- improvement_surcharge: string (nullable = true)\n-- Total_amount: string (nullable = true)\n-- Payment_type: string (nullable = true)\n-- trip_type: string (nullable = true)\n\n         "
     ]
    }
   ],
   "source": [
    "green_trip_2015_h1.write.format(\"delta\").mode(\"append\").save(path_2)"
   ]
  },
  {
   "cell_type": "code",
   "execution_count": 16,
   "id": "sacred-quilt",
   "metadata": {},
   "outputs": [],
   "source": [
    "green_trip_2015_h1.write.format(\"delta\").mode(\"append\").option(\"mergeSchema\", \"true\").save(path_2)"
   ]
  },
  {
   "cell_type": "code",
   "execution_count": 34,
   "id": "intelligent-layer",
   "metadata": {},
   "outputs": [],
   "source": [
    "spark.stop()"
   ]
  }
 ],
 "metadata": {
  "kernelspec": {
   "display_name": "Python [conda env:spark]",
   "language": "python",
   "name": "conda-env-spark-py"
  },
  "language_info": {
   "codemirror_mode": {
    "name": "ipython",
    "version": 3
   },
   "file_extension": ".py",
   "mimetype": "text/x-python",
   "name": "python",
   "nbconvert_exporter": "python",
   "pygments_lexer": "ipython3",
   "version": "3.8.12"
  }
 },
 "nbformat": 4,
 "nbformat_minor": 5
}
