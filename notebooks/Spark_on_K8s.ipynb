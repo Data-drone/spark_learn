{
 "cells": [
  {
   "cell_type": "markdown",
   "id": "66e70fbd-60f3-4c6c-b91d-a36871b1bdb5",
   "metadata": {},
   "source": [
    "# Using Spark on Kubernetes"
   ]
  },
  {
   "cell_type": "code",
   "execution_count": 3,
   "id": "a9143c6a-1948-46ea-bdd3-085b7b472388",
   "metadata": {},
   "outputs": [],
   "source": [
    "from pyspark import SparkContext, SparkConf\n",
    "from pyspark.sql import SparkSession"
   ]
  },
  {
   "cell_type": "markdown",
   "id": "05fe81ad-1996-4705-841d-e3495a79ead6",
   "metadata": {},
   "source": [
    "## Configs\n",
    "\n",
    "These configs are set to work with the stack at: https://github.com/Data-drone/data_eng_kube.git"
   ]
  },
  {
   "cell_type": "code",
   "execution_count": 4,
   "id": "db3981c5-c878-4ef7-b0e6-46008eed24fa",
   "metadata": {},
   "outputs": [
    {
     "data": {
      "text/plain": [
       "<pyspark.conf.SparkConf at 0x7f5e7acef2b0>"
      ]
     },
     "execution_count": 4,
     "metadata": {},
     "output_type": "execute_result"
    }
   ],
   "source": [
    "sparkConf = SparkConf()\n",
    "sparkConf.setMaster(\"k8s://https://kubernetes.default.svc.cluster.local:443\")\n",
    "sparkConf.setAppName(\"spark\")\n",
    "sparkConf.set(\"spark.kubernetes.container.image\", \"k3d-test-registry:5000/datadrone/spark-worker:3.1.2-hadoop3.2-rapids\")\n",
    "sparkConf.set(\"spark.kubernetes.namespace\", \"jhub\")\n",
    "sparkConf.set(\"spark.executor.instances\", \"7\")\n",
    "sparkConf.set(\"spark.executor.cores\", \"2\")\n",
    "sparkConf.set(\"spark.driver.memory\", \"512m\")\n",
    "sparkConf.set(\"spark.executor.memory\", \"512m\")\n",
    "sparkConf.set(\"spark.kubernetes.pyspark.pythonVersion\", \"3\")\n",
    "sparkConf.set(\"spark.kubernetes.authenticate.driver.serviceAccountName\", \"spark\")\n",
    "sparkConf.set(\"spark.kubernetes.authenticate.serviceAccountName\", \"spark\")\n",
    "#sparkConf.set(\"spark.driver.blockManager.port\", \"7777\")\n",
    "#sparkConf.set(\"spark.driver.port\", \"2222\")\n"
   ]
  },
  {
   "cell_type": "code",
   "execution_count": 5,
   "id": "2bf78f68-c303-4d94-8a7c-1bd307fe30e1",
   "metadata": {},
   "outputs": [
    {
     "name": "stderr",
     "output_type": "stream",
     "text": [
      "21/09/24 13:58:42 WARN NativeCodeLoader: Unable to load native-hadoop library for your platform... using builtin-java classes where applicable\n",
      "Using Spark's default log4j profile: org/apache/spark/log4j-defaults.properties\n",
      "Setting default log level to \"WARN\".\n",
      "To adjust logging level use sc.setLogLevel(newLevel). For SparkR, use setLogLevel(newLevel).\n"
     ]
    }
   ],
   "source": [
    "spark = SparkSession.builder.config(conf=sparkConf).getOrCreate()"
   ]
  },
  {
   "cell_type": "markdown",
   "id": "dca4a969-bfa3-4099-8290-3bb3df7532b7",
   "metadata": {},
   "source": [
    "# Generate some test data and run through Spark"
   ]
  },
  {
   "cell_type": "code",
   "execution_count": 9,
   "id": "256995b0-71c2-46a8-9d32-bc59a07ba33d",
   "metadata": {},
   "outputs": [],
   "source": [
    "import pandas as pd\n",
    "import numpy as np"
   ]
  },
  {
   "cell_type": "code",
   "execution_count": 11,
   "id": "ba0333e3-c9fe-44cb-9dc3-5002df62e27d",
   "metadata": {},
   "outputs": [],
   "source": [
    "df = pd.DataFrame(np.random.randn(100000,20))"
   ]
  },
  {
   "cell_type": "code",
   "execution_count": 12,
   "id": "a8d32d31-b7e2-4c57-8071-6ddb66c84b14",
   "metadata": {},
   "outputs": [
    {
     "data": {
      "text/html": [
       "<div>\n",
       "<style scoped>\n",
       "    .dataframe tbody tr th:only-of-type {\n",
       "        vertical-align: middle;\n",
       "    }\n",
       "\n",
       "    .dataframe tbody tr th {\n",
       "        vertical-align: top;\n",
       "    }\n",
       "\n",
       "    .dataframe thead th {\n",
       "        text-align: right;\n",
       "    }\n",
       "</style>\n",
       "<table border=\"1\" class=\"dataframe\">\n",
       "  <thead>\n",
       "    <tr style=\"text-align: right;\">\n",
       "      <th></th>\n",
       "      <th>0</th>\n",
       "      <th>1</th>\n",
       "      <th>2</th>\n",
       "      <th>3</th>\n",
       "      <th>4</th>\n",
       "      <th>5</th>\n",
       "      <th>6</th>\n",
       "      <th>7</th>\n",
       "      <th>8</th>\n",
       "      <th>9</th>\n",
       "      <th>10</th>\n",
       "      <th>11</th>\n",
       "      <th>12</th>\n",
       "      <th>13</th>\n",
       "      <th>14</th>\n",
       "      <th>15</th>\n",
       "      <th>16</th>\n",
       "      <th>17</th>\n",
       "      <th>18</th>\n",
       "      <th>19</th>\n",
       "    </tr>\n",
       "  </thead>\n",
       "  <tbody>\n",
       "    <tr>\n",
       "      <th>0</th>\n",
       "      <td>-1.520526</td>\n",
       "      <td>1.257471</td>\n",
       "      <td>-0.837142</td>\n",
       "      <td>-1.464086</td>\n",
       "      <td>-1.166444</td>\n",
       "      <td>-1.447263</td>\n",
       "      <td>-0.730329</td>\n",
       "      <td>-1.677061</td>\n",
       "      <td>1.207916</td>\n",
       "      <td>1.437968</td>\n",
       "      <td>0.276219</td>\n",
       "      <td>-1.485697</td>\n",
       "      <td>-1.660688</td>\n",
       "      <td>0.572675</td>\n",
       "      <td>0.302909</td>\n",
       "      <td>0.717192</td>\n",
       "      <td>-0.494848</td>\n",
       "      <td>-0.127130</td>\n",
       "      <td>-1.662745</td>\n",
       "      <td>1.193841</td>\n",
       "    </tr>\n",
       "    <tr>\n",
       "      <th>1</th>\n",
       "      <td>0.187443</td>\n",
       "      <td>-0.180966</td>\n",
       "      <td>0.580127</td>\n",
       "      <td>0.894383</td>\n",
       "      <td>0.416617</td>\n",
       "      <td>-0.202259</td>\n",
       "      <td>1.038296</td>\n",
       "      <td>1.125784</td>\n",
       "      <td>-0.494992</td>\n",
       "      <td>1.257571</td>\n",
       "      <td>-0.757522</td>\n",
       "      <td>-0.835777</td>\n",
       "      <td>0.481558</td>\n",
       "      <td>-0.619822</td>\n",
       "      <td>-0.050677</td>\n",
       "      <td>2.085050</td>\n",
       "      <td>-1.408563</td>\n",
       "      <td>-0.524603</td>\n",
       "      <td>0.727098</td>\n",
       "      <td>1.234794</td>\n",
       "    </tr>\n",
       "    <tr>\n",
       "      <th>2</th>\n",
       "      <td>-0.395079</td>\n",
       "      <td>1.841727</td>\n",
       "      <td>-0.673116</td>\n",
       "      <td>-1.566680</td>\n",
       "      <td>-0.245682</td>\n",
       "      <td>0.154755</td>\n",
       "      <td>0.193560</td>\n",
       "      <td>-1.052250</td>\n",
       "      <td>-1.533664</td>\n",
       "      <td>-0.105014</td>\n",
       "      <td>1.117417</td>\n",
       "      <td>-0.071455</td>\n",
       "      <td>1.585373</td>\n",
       "      <td>-0.016005</td>\n",
       "      <td>-0.885037</td>\n",
       "      <td>-0.023516</td>\n",
       "      <td>-1.423014</td>\n",
       "      <td>-1.102648</td>\n",
       "      <td>0.365883</td>\n",
       "      <td>1.065792</td>\n",
       "    </tr>\n",
       "    <tr>\n",
       "      <th>3</th>\n",
       "      <td>-0.432628</td>\n",
       "      <td>1.157481</td>\n",
       "      <td>0.386807</td>\n",
       "      <td>0.601204</td>\n",
       "      <td>1.910105</td>\n",
       "      <td>1.351120</td>\n",
       "      <td>-0.938100</td>\n",
       "      <td>-0.149511</td>\n",
       "      <td>0.521578</td>\n",
       "      <td>-0.538858</td>\n",
       "      <td>1.468670</td>\n",
       "      <td>-1.436999</td>\n",
       "      <td>0.094204</td>\n",
       "      <td>0.039238</td>\n",
       "      <td>-0.128717</td>\n",
       "      <td>-0.892526</td>\n",
       "      <td>-0.161283</td>\n",
       "      <td>-0.838804</td>\n",
       "      <td>-0.333099</td>\n",
       "      <td>-0.363571</td>\n",
       "    </tr>\n",
       "    <tr>\n",
       "      <th>4</th>\n",
       "      <td>1.489091</td>\n",
       "      <td>0.142985</td>\n",
       "      <td>-0.595420</td>\n",
       "      <td>-0.599466</td>\n",
       "      <td>-1.428830</td>\n",
       "      <td>0.007271</td>\n",
       "      <td>1.919305</td>\n",
       "      <td>0.317579</td>\n",
       "      <td>-2.259838</td>\n",
       "      <td>0.143203</td>\n",
       "      <td>0.605713</td>\n",
       "      <td>-0.054180</td>\n",
       "      <td>-0.868309</td>\n",
       "      <td>-0.932193</td>\n",
       "      <td>0.290701</td>\n",
       "      <td>1.264164</td>\n",
       "      <td>1.791445</td>\n",
       "      <td>1.070067</td>\n",
       "      <td>-0.062678</td>\n",
       "      <td>1.868255</td>\n",
       "    </tr>\n",
       "  </tbody>\n",
       "</table>\n",
       "</div>"
      ],
      "text/plain": [
       "         0         1         2         3         4         5         6   \\\n",
       "0 -1.520526  1.257471 -0.837142 -1.464086 -1.166444 -1.447263 -0.730329   \n",
       "1  0.187443 -0.180966  0.580127  0.894383  0.416617 -0.202259  1.038296   \n",
       "2 -0.395079  1.841727 -0.673116 -1.566680 -0.245682  0.154755  0.193560   \n",
       "3 -0.432628  1.157481  0.386807  0.601204  1.910105  1.351120 -0.938100   \n",
       "4  1.489091  0.142985 -0.595420 -0.599466 -1.428830  0.007271  1.919305   \n",
       "\n",
       "         7         8         9         10        11        12        13  \\\n",
       "0 -1.677061  1.207916  1.437968  0.276219 -1.485697 -1.660688  0.572675   \n",
       "1  1.125784 -0.494992  1.257571 -0.757522 -0.835777  0.481558 -0.619822   \n",
       "2 -1.052250 -1.533664 -0.105014  1.117417 -0.071455  1.585373 -0.016005   \n",
       "3 -0.149511  0.521578 -0.538858  1.468670 -1.436999  0.094204  0.039238   \n",
       "4  0.317579 -2.259838  0.143203  0.605713 -0.054180 -0.868309 -0.932193   \n",
       "\n",
       "         14        15        16        17        18        19  \n",
       "0  0.302909  0.717192 -0.494848 -0.127130 -1.662745  1.193841  \n",
       "1 -0.050677  2.085050 -1.408563 -0.524603  0.727098  1.234794  \n",
       "2 -0.885037 -0.023516 -1.423014 -1.102648  0.365883  1.065792  \n",
       "3 -0.128717 -0.892526 -0.161283 -0.838804 -0.333099 -0.363571  \n",
       "4  0.290701  1.264164  1.791445  1.070067 -0.062678  1.868255  "
      ]
     },
     "execution_count": 12,
     "metadata": {},
     "output_type": "execute_result"
    }
   ],
   "source": [
    "df.head()"
   ]
  },
  {
   "cell_type": "code",
   "execution_count": 14,
   "id": "c7fd3dfb-9a5e-431d-8299-8d4058ee840b",
   "metadata": {},
   "outputs": [],
   "source": [
    "sparkDF=spark.createDataFrame(df) "
   ]
  },
  {
   "cell_type": "code",
   "execution_count": 16,
   "id": "e385c728-2580-40fb-a253-ca4e54c9b850",
   "metadata": {},
   "outputs": [
    {
     "name": "stdout",
     "output_type": "stream",
     "text": [
      "root\n",
      " |-- 0: double (nullable = true)\n",
      " |-- 1: double (nullable = true)\n",
      " |-- 2: double (nullable = true)\n",
      " |-- 3: double (nullable = true)\n",
      " |-- 4: double (nullable = true)\n",
      " |-- 5: double (nullable = true)\n",
      " |-- 6: double (nullable = true)\n",
      " |-- 7: double (nullable = true)\n",
      " |-- 8: double (nullable = true)\n",
      " |-- 9: double (nullable = true)\n",
      " |-- 10: double (nullable = true)\n",
      " |-- 11: double (nullable = true)\n",
      " |-- 12: double (nullable = true)\n",
      " |-- 13: double (nullable = true)\n",
      " |-- 14: double (nullable = true)\n",
      " |-- 15: double (nullable = true)\n",
      " |-- 16: double (nullable = true)\n",
      " |-- 17: double (nullable = true)\n",
      " |-- 18: double (nullable = true)\n",
      " |-- 19: double (nullable = true)\n",
      "\n"
     ]
    }
   ],
   "source": [
    "sparkDF.printSchema()"
   ]
  },
  {
   "cell_type": "code",
   "execution_count": null,
   "id": "9300dfa4-24c9-41fa-a274-e52f8f546670",
   "metadata": {},
   "outputs": [],
   "source": [
    "# Shutdown Our Context\n",
    "#spark.stop()"
   ]
  },
  {
   "cell_type": "code",
   "execution_count": null,
   "id": "9067f3f7-eb90-4371-9ee3-35170197d695",
   "metadata": {},
   "outputs": [],
   "source": []
  }
 ],
 "metadata": {
  "kernelspec": {
   "display_name": "Python 3 (ipykernel)",
   "language": "python",
   "name": "python3"
  },
  "language_info": {
   "codemirror_mode": {
    "name": "ipython",
    "version": 3
   },
   "file_extension": ".py",
   "mimetype": "text/x-python",
   "name": "python",
   "nbconvert_exporter": "python",
   "pygments_lexer": "ipython3",
   "version": "3.9.6"
  }
 },
 "nbformat": 4,
 "nbformat_minor": 5
}
